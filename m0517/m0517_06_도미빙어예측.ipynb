{
 "cells": [
  {
   "cell_type": "code",
   "execution_count": 2,
   "metadata": {},
   "outputs": [],
   "source": [
    "from sklearn import svm,metrics\n",
    "from sklearn.model_selection import train_test_split\n",
    "import pandas as pd\n",
    "import numpy as np\n",
    "import matplotlib.pyplot as plt\n",
    "import matplotlib\n",
    "import requests\n",
    "# maplotlib.rcParams['font.family'] = 'AppleGothic Gothic   # Mac 사용자\n",
    "matplotlib.rcParams['font.family'] = 'Malgun Gothic'\n",
    "matplotlib.rcParams['font.size'] = 10\n",
    "matplotlib.rcParams['axes.unicode_minus'] = False"
   ]
  },
  {
   "cell_type": "code",
   "execution_count": 3,
   "metadata": {},
   "outputs": [],
   "source": [
    "# [ 도미 ]\n",
    "bream_length = [25.4, 26.3, 26.5, 29.0, 29.0, 29.7, 29.7, 30.0, 30.0, 30.7, 31.0, 31.0, 31.5, 32.0, 32.0, 32.0, 33.0, 33.0,\n",
    "33.5, 33.5, 34.0, 34.0, 34.5, 35.0, 35.0, 35.0, 35.0, 36.0, 36.0, 37.0, 38.5, 38.5, 39.5, 41.0, 41.0]\n",
    "bream_weight = [242.0, 290.0, 340.0, 363.0, 430.0, 450.0, 500.0, 390.0, 450.0, 500.0, 475.0, 500.0, 500.0, 340.0, 600.0, 600.0, 700.0, 700.0,\n",
    "610.0, 650.0, 575.0, 685.0, 620.0, 680.0, 700.0, 725.0, 720.0, 714.0, 850.0, 1000.0, 920.0, 955.0, 925.0, 975.0, 950.0]\n",
    "\n",
    "# [ 빙어 ]\n",
    "smelt_length = [9.8, 10.5, 10.6, 11.0, 11.2, 11.3, 11.8, 11.8, 12.0, 12.2, 12.4, 13.0, 14.3, 15.0]\n",
    "smelt_weight = [6.7, 7.5, 7.0, 9.7, 9.8, 8.7, 10.0, 9.9, 9.8, 12.2, 13.4, 12.2, 19.7, 19.9]"
   ]
  },
  {
   "cell_type": "code",
   "execution_count": 4,
   "metadata": {},
   "outputs": [
    {
     "data": {
      "text/plain": [
       "14"
      ]
     },
     "execution_count": 4,
     "metadata": {},
     "output_type": "execute_result"
    }
   ],
   "source": [
    "len(bream_length)     # 도미데이터 35개\n",
    "len(smelt_length)     # 빙어데이터 14개"
   ]
  },
  {
   "cell_type": "markdown",
   "metadata": {},
   "source": [
    "length -> 합치기\n",
    "weight -> 합치기\n",
    "\n",
    "datas = [ length, weight ] 합치기\n",
    "\n",
    "train_input, test_input. train_target, test_target을 만들어보기"
   ]
  },
  {
   "cell_type": "code",
   "execution_count": 5,
   "metadata": {},
   "outputs": [
    {
     "data": {
      "text/plain": [
       "49"
      ]
     },
     "execution_count": 5,
     "metadata": {},
     "output_type": "execute_result"
    }
   ],
   "source": [
    "# 데이터의 전처리 과정을 해보세요!\n",
    "# train_input, test_input, train_target, test_target\n",
    "\n",
    "all_length = bream_length + smelt_length\n",
    "len(all_length)  # 49개 : 리스트는 그냥 더해주면 됨!\n",
    "\n",
    "all_weight = bream_weight + smelt_weight\n",
    "len(all_weight)  # 49개"
   ]
  },
  {
   "cell_type": "code",
   "execution_count": 6,
   "metadata": {},
   "outputs": [],
   "source": [
    "## 도미 : 1로 표시, 빙어 : 0으로 표시\n",
    "results = [1]*35 + [0]*14\n",
    "\n",
    "datas = []\n",
    "for i in range(len(all_length)):\n",
    "    couple = [all_length[i],all_weight[i],results[i]]\n",
    "    datas.append(couple)\n",
    "\n",
    "# datas"
   ]
  },
  {
   "cell_type": "code",
   "execution_count": 7,
   "metadata": {},
   "outputs": [],
   "source": [
    "# zip() : 반복해서 각각 list 데이터를 1개씩 뽑아서 전달해줌\n",
    "results = [1]*35 + [0]*14\n",
    "datas = [ [l,w,r] for l,w,r in zip(all_length,all_weight,results)]\n",
    "# datas"
   ]
  },
  {
   "cell_type": "code",
   "execution_count": 8,
   "metadata": {},
   "outputs": [],
   "source": [
    "# 파이썬 random 함수를 사용해서\n",
    "# 49개 중 35개 데이터는 train_input, train_target / 14개는 test_input, test_target에\n",
    "# DataFrame을 사용하지 않고, for문을 사용해서 35 / 14 개를 분리해서 출력하시오.\n",
    "index = np.arange(49)\n",
    "np.random.shuffle(index)\n",
    "# index[:35]\n",
    "# datas[index[0]][:-1]\n",
    "\n",
    "train_input = [ datas[i][:-1] for i in index[:35] ]\n",
    "test_input = [ datas[i][:-1] for i in index[35:] ]\n",
    "\n",
    "train_target = [ results[i] for i in index[:35] ]\n",
    "test_target = [ results[i] for i in index[35:] ]\n"
   ]
  },
  {
   "cell_type": "code",
   "execution_count": 9,
   "metadata": {},
   "outputs": [
    {
     "data": {
      "text/html": [
       "<div>\n",
       "<style scoped>\n",
       "    .dataframe tbody tr th:only-of-type {\n",
       "        vertical-align: middle;\n",
       "    }\n",
       "\n",
       "    .dataframe tbody tr th {\n",
       "        vertical-align: top;\n",
       "    }\n",
       "\n",
       "    .dataframe thead th {\n",
       "        text-align: right;\n",
       "    }\n",
       "</style>\n",
       "<table border=\"1\" class=\"dataframe\">\n",
       "  <thead>\n",
       "    <tr style=\"text-align: right;\">\n",
       "      <th></th>\n",
       "      <th>0</th>\n",
       "      <th>1</th>\n",
       "    </tr>\n",
       "  </thead>\n",
       "  <tbody>\n",
       "    <tr>\n",
       "      <th>0</th>\n",
       "      <td>10.5</td>\n",
       "      <td>7.5</td>\n",
       "    </tr>\n",
       "  </tbody>\n",
       "</table>\n",
       "</div>"
      ],
      "text/plain": [
       "      0    1\n",
       "0  10.5  7.5"
      ]
     },
     "execution_count": 9,
     "metadata": {},
     "output_type": "execute_result"
    }
   ],
   "source": [
    "df_train = pd.DataFrame(train_input)\n",
    "df_train.head(1)\n",
    "df_test = pd.DataFrame(test_input)\n",
    "df_test.head(1)"
   ]
  },
  {
   "cell_type": "code",
   "execution_count": 10,
   "metadata": {},
   "outputs": [
    {
     "data": {
      "text/plain": [
       "<matplotlib.collections.PathCollection at 0x13fb5596ab0>"
      ]
     },
     "execution_count": 10,
     "metadata": {},
     "output_type": "execute_result"
    },
    {
     "data": {
      "image/png": "[encoded data removed]",
      "text/plain": [
       "<Figure size 640x480 with 1 Axes>"
      ]
     },
     "metadata": {},
     "output_type": "display_data"
    }
   ],
   "source": [
    "plt.scatter(df_train[0],df_train[1])\n",
    "plt.scatter(df_test[0],df_test[1])"
   ]
  },
  {
   "cell_type": "code",
   "execution_count": 11,
   "metadata": {},
   "outputs": [],
   "source": [
    "# datas_input = []\n",
    "# for i in range(len(datas)):\n",
    "#     input = datas[i][:-1]\n",
    "#     datas_input.append(input)\n",
    "# # datas_input = [[25.4, 242.0],[26.3, 190.0],[26.5, 340.0],[29.0, 363.0],...]\n",
    "\n",
    "# datas_target = []\n",
    "# for i in range(len(datas)):\n",
    "#     target = datas[i][2]\n",
    "#     datas_target.append(target)\n",
    "# # datas_target  = [1,1,1,1,1,1,1,...,0,0,0]"
   ]
  },
  {
   "cell_type": "code",
   "execution_count": 12,
   "metadata": {},
   "outputs": [],
   "source": [
    "# # 3/4, 1/4 비율로 랜덤하게 섞어서 할당해줌\n",
    "# train_input,test_input,train_target,test_target = train_test_split(datas_input,datas_target)"
   ]
  },
  {
   "cell_type": "code",
   "execution_count": 13,
   "metadata": {},
   "outputs": [
    {
     "name": "stdout",
     "output_type": "stream",
     "text": [
      "예측 데이터값 :  [0 1 0 0 1 1 1 0 1 1 1 1 1 1]\n",
      "정확도 계산 :  1.0\n"
     ]
    }
   ],
   "source": [
    "# 2. 데이터 학습 시키기\n",
    "from sklearn.neighbors import KNeighborsClassifier\n",
    "# clf = svm.SVC()\n",
    "clf = KNeighborsClassifier()\n",
    "clf.fit(train_input,train_target)\n",
    "\n",
    "# 3. 데이터 예측하기\n",
    "pre = clf.predict(test_input)\n",
    "print(\"예측 데이터값 : \",pre)\n",
    "\n",
    "# 정확도 계산\n",
    "# score = metrics.accuracy_score(test_target,pre)\n",
    "score = clf.score(test_input,test_target)\n",
    "print(\"정확도 계산 : \",score)"
   ]
  },
  {
   "cell_type": "code",
   "execution_count": 14,
   "metadata": {},
   "outputs": [
    {
     "name": "stdout",
     "output_type": "stream",
     "text": [
      "예측 데이터값 :  [1]\n"
     ]
    }
   ],
   "source": [
    "# 길이가 30cm, 무게가 600.0인 고기가 무엇인지 판단하시오\n",
    "\n",
    "new_input = [\n",
    "    [30, 600.0]\n",
    "]\n",
    "\n",
    "pre = clf.predict(new_input)\n",
    "print(\"예측 데이터값 : \",pre)\n"
   ]
  },
  {
   "cell_type": "code",
   "execution_count": 15,
   "metadata": {},
   "outputs": [
    {
     "name": "stdout",
     "output_type": "stream",
     "text": [
      "예측 데이터값 :  [1 0]\n"
     ]
    }
   ],
   "source": [
    "# 길이 25, 무게가 150.0 인 고기가 무엇인지 판단\n",
    "new_input = [\n",
    "    [30, 600.0],\n",
    "    [25, 150.0]\n",
    "]\n",
    "\n",
    "pre = clf.predict(new_input)\n",
    "print(\"예측 데이터값 : \",pre)"
   ]
  },
  {
   "cell_type": "code",
   "execution_count": 16,
   "metadata": {},
   "outputs": [
    {
     "data": {
      "text/plain": [
       "(array([[130.48375378, 130.73859415, 138.32150953, 138.39320793,\n",
       "         140.00603558]]),\n",
       " array([[29, 32,  1,  3, 10]], dtype=int64))"
      ]
     },
     "execution_count": 16,
     "metadata": {},
     "output_type": "execute_result"
    }
   ],
   "source": [
    "clf.kneighbors([[25,150]])"
   ]
  },
  {
   "cell_type": "code",
   "execution_count": 17,
   "metadata": {},
   "outputs": [
    {
     "data": {
      "text/plain": [
       "array([[29, 32,  1,  3, 10]], dtype=int64)"
      ]
     },
     "execution_count": 17,
     "metadata": {},
     "output_type": "execute_result"
    }
   ],
   "source": [
    "# train_input 몇번째 index데이터를 사용했는지 알려줌\n",
    "distance, indexs = clf.kneighbors([[25,150.0]])\n",
    "indexs"
   ]
  },
  {
   "cell_type": "code",
   "execution_count": 18,
   "metadata": {},
   "outputs": [
    {
     "data": {
      "text/plain": [
       "29    15.0\n",
       "32    14.3\n",
       "1     13.0\n",
       "3     12.2\n",
       "10    26.3\n",
       "Name: 0, dtype: float64"
      ]
     },
     "execution_count": 18,
     "metadata": {},
     "output_type": "execute_result"
    }
   ],
   "source": [
    "df_train.iloc[indexs[0],0]"
   ]
  },
  {
   "cell_type": "code",
   "execution_count": 19,
   "metadata": {},
   "outputs": [
    {
     "data": {
      "text/plain": [
       "<matplotlib.collections.PathCollection at 0x13fb55f6900>"
      ]
     },
     "execution_count": 19,
     "metadata": {},
     "output_type": "execute_result"
    },
    {
     "data": {
      "image/png": "[encoded data removed]",
      "text/plain": [
       "<Figure size 640x480 with 1 Axes>"
      ]
     },
     "metadata": {},
     "output_type": "display_data"
    }
   ],
   "source": [
    "plt.scatter(df_train[0],df_train[1])\n",
    "plt.scatter(df_test[0],df_test[1])\n",
    "plt.scatter(new_input[0][0],new_input[0][1],marker='D')"
   ]
  },
  {
   "cell_type": "code",
   "execution_count": 23,
   "metadata": {},
   "outputs": [
    {
     "data": {
      "text/plain": [
       "<matplotlib.collections.PathCollection at 0x13fb7b65040>"
      ]
     },
     "execution_count": 23,
     "metadata": {},
     "output_type": "execute_result"
    },
    {
     "data": {
      "image/png": "[encoded data removed]",
      "text/plain": [
       "<Figure size 640x480 with 1 Axes>"
      ]
     },
     "metadata": {},
     "output_type": "display_data"
    }
   ],
   "source": [
    "plt.xlim(0,1000)\n",
    "plt.scatter(df_train[0],df_train[1])\n",
    "plt.scatter(df_test[0],df_test[1])\n",
    "plt.scatter(new_input[0][0],new_input[0][1],marker='D')"
   ]
  },
  {
   "cell_type": "code",
   "execution_count": 20,
   "metadata": {},
   "outputs": [
    {
     "data": {
      "text/plain": [
       "<matplotlib.collections.PathCollection at 0x13fb78b1d30>"
      ]
     },
     "execution_count": 20,
     "metadata": {},
     "output_type": "execute_result"
    },
    {
     "data": {
      "image/png": "[encoded data removed]",
      "text/plain": [
       "<Figure size 640x480 with 1 Axes>"
      ]
     },
     "metadata": {},
     "output_type": "display_data"
    }
   ],
   "source": [
    "plt.scatter(bream_length,bream_weight)\n",
    "plt.scatter(smelt_length,smelt_weight)\n",
    "plt.scatter(df_train.iloc[indexs[0],0],df_train.iloc[indexs[0],1])\n",
    "plt.scatter(new_input[1][0],new_input[1][1],marker='*')"
   ]
  },
  {
   "cell_type": "markdown",
   "metadata": {},
   "source": [
    "가로축 간의 차이보다, 세로축 간의 차이가 더 크기 때문에 빙어와 더 가깝다는 결론을 내렸을 것"
   ]
  },
  {
   "cell_type": "code",
   "execution_count": 22,
   "metadata": {},
   "outputs": [
    {
     "data": {
      "text/plain": [
       "<matplotlib.collections.PathCollection at 0x13fb7932660>"
      ]
     },
     "execution_count": 22,
     "metadata": {},
     "output_type": "execute_result"
    },
    {
     "data": {
      "image/png": "[encoded data removed]",
      "text/plain": [
       "<Figure size 640x480 with 1 Axes>"
      ]
     },
     "metadata": {},
     "output_type": "display_data"
    }
   ],
   "source": [
    "plt.xlim(0,1000)\n",
    "plt.scatter(bream_length,bream_weight)\n",
    "plt.scatter(smelt_length,smelt_weight)\n",
    "plt.scatter(df_train.iloc[indexs[0],0],df_train.iloc[indexs[0],1])\n",
    "plt.scatter(new_input[1][0],new_input[1][1],marker='*')\n"
   ]
  }
 ],
 "metadata": {
  "kernelspec": {
   "display_name": "Python 3",
   "language": "python",
   "name": "python3"
  },
  "language_info": {
   "codemirror_mode": {
    "name": "ipython",
    "version": 3
   },
   "file_extension": ".py",
   "mimetype": "text/x-python",
   "name": "python",
   "nbconvert_exporter": "python",
   "pygments_lexer": "ipython3",
   "version": "3.12.0"
  }
 },
 "nbformat": 4,
 "nbformat_minor": 2
}
