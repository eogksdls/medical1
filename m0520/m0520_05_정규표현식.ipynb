{
 "cells": [
  {
   "cell_type": "code",
   "execution_count": 1,
   "metadata": {},
   "outputs": [
    {
     "name": "stdout",
     "output_type": "stream",
     "text": [
      "매칭 되지 않았습니다.\n"
     ]
    }
   ],
   "source": [
    "import re\n",
    "\n",
    "# 정규표현식\n",
    "p = re.compile(\"ca.e\")  # 정규표현식을 지정\n",
    "word = 'caffe'\n",
    "word2 = 'care'\n",
    "word3 = 'cark'\n",
    "\n",
    "if p.match(word):\n",
    "    print('매칭이 되었습니다.')\n",
    "else:\n",
    "    print(\"매칭 되지 않았습니다.\")"
   ]
  },
  {
   "cell_type": "code",
   "execution_count": 2,
   "metadata": {},
   "outputs": [
    {
     "name": "stdout",
     "output_type": "stream",
     "text": [
      "매칭되었습니다. desk 입니다\n"
     ]
    }
   ],
   "source": [
    "#   ^de : 첫시작이 de로 시작되어야함\n",
    "\n",
    "word = 'desk 입니다'\n",
    "\n",
    "if re.match(r'^(de)', word) : # 시작이 de로 시작되어야 함\n",
    "    print('매칭되었습니다.', word)\n",
    "else:\n",
    "    print('매칭되지 않았습니다.', word)\n",
    "\n"
   ]
  },
  {
   "cell_type": "code",
   "execution_count": 3,
   "metadata": {},
   "outputs": [
    {
     "name": "stdout",
     "output_type": "stream",
     "text": [
      "매칭되었습니다. casse\n"
     ]
    }
   ],
   "source": [
    "# ^ : 첫글자 조건\n",
    "# se$ : 문자열이 de로 끝나야 함\n",
    "# match :  정확히 일치해야 True\n",
    "# search : 포함이 되어있으면 True\n",
    "# findall : 패턴과 매치되는 모든 값을 찾아 리스트로 반환해줌\n",
    "\n",
    "word = 'casse'\n",
    "p = re.compile('(se$)') # 정규표현식을 지정\n",
    "if p.search(word):  # 시작이 de로 시작되어야 함\n",
    "    print('매칭되었습니다.',word)\n",
    "else:\n",
    "    print('매칭되지 않았습니다.', word)"
   ]
  },
  {
   "cell_type": "code",
   "execution_count": 4,
   "metadata": {},
   "outputs": [
    {
     "name": "stdout",
     "output_type": "stream",
     "text": [
      "매칭 안됨 bbcdef\n"
     ]
    }
   ],
   "source": [
    "# {3} : 3자리가 들어와야 True\n",
    "# {2,3} : 2~3자리가 들어와야 True\n",
    "# ^ 시작\n",
    "# [ ] : []안에 있는 글자만 True\n",
    "# a-z : abcdefg.....xyz\n",
    "# A-Z : ABCDEFG.....XYZ\n",
    "# 0-9 : 0123456789\n",
    "# ㄱ-ㅎ, 가-힣 : 국문만 가능\n",
    "\n",
    "# 첫글자가 a 이면서, 영소문자가 5개만 들어올 수 있음\n",
    "word = 'bbcdef'\n",
    "if re.match(r'^a{1}[a-z]{5}$',word):\n",
    "    print('매칭 됨', word)\n",
    "else:\n",
    "    print('매칭 안됨',word)\n",
    "    "
   ]
  },
  {
   "cell_type": "code",
   "execution_count": 5,
   "metadata": {},
   "outputs": [
    {
     "name": "stdout",
     "output_type": "stream",
     "text": [
      "매칭되었습니다. 010-1234-5678\n"
     ]
    }
   ],
   "source": [
    "word = '010-1234-5678'\n",
    "if re.search('[0-9]{2,3}-[0-9]{4}-[0-9]{4}',word):\n",
    "    print('매칭되었습니다.',word)\n",
    "else:\n",
    "    print('매칭되지 않았습니다.',word)\n"
   ]
  },
  {
   "cell_type": "code",
   "execution_count": 6,
   "metadata": {},
   "outputs": [
    {
     "name": "stdout",
     "output_type": "stream",
     "text": [
      "제대로 입력되었습니다. 101010\n"
     ]
    }
   ],
   "source": [
    "# 데이터를 입력받아, 첫글자 1, 길이가 6자리인 숫자만 입력가능\n",
    "# 입력이 되면, 제대로 입력되었습니다.\n",
    "# 아니면, 다시 입력하세요라고 출력되게끔 구현하시오\n",
    "# 제대로 입력되어야지만, 프로그램을 종료시키시오\n",
    "\n",
    "while True:\n",
    "    data = input(\"데이터를 입력하세요.\")    # 문자열\n",
    "    if data.isdigit() and data[0] == '1' and len(data) == 6:\n",
    "        print('제대로 입력되었습니다.', data)\n",
    "        break\n",
    "    else:\n",
    "        print('형식에 맞추어 제대로 입력해주세요')"
   ]
  },
  {
   "cell_type": "code",
   "execution_count": 7,
   "metadata": {},
   "outputs": [
    {
     "name": "stdout",
     "output_type": "stream",
     "text": [
      "매칭되었습니다. ct\n"
     ]
    }
   ],
   "source": [
    "# * : 앞에 쓰인 문자의 반복 개수가 0부터 무한대까지 가능\n",
    "# + : *과 달리 반복개수가 1부터 무한대\n",
    "# { } : 지정 가능 -> {2} : 2번, {2,} : 2번 이상, {,2} : 2번 이하, {2,3} : 2~3번 가능\n",
    "# ? : 기호 앞에 쓰인 문자가 있어도 되고 없어도 됨\n",
    "\n",
    "word = 'ct'\n",
    "\n",
    "p = re.compile('ca*t')\n",
    "if p.match(word):\n",
    "    print('매칭되었습니다.', word)\n",
    "else:\n",
    "    print('매칭되지 않았습니다.',word)"
   ]
  },
  {
   "cell_type": "code",
   "execution_count": 9,
   "metadata": {},
   "outputs": [
    {
     "name": "stdout",
     "output_type": "stream",
     "text": [
      "매칭되었습니다.\n",
      "['ct', 'cat', 'caat', 'caaat', 'caaaat', 'ct']\n"
     ]
    }
   ],
   "source": [
    "# findall : 패턴과 매치되는 모든 값을 찾아 리스트로 반환해줌\n",
    "\n",
    "word = 'ct cat caat caaat caaaat cttt'\n",
    "\n",
    "p = re.compile('ca*t')\n",
    "result = p.findall(word)\n",
    "if p.findall(word):\n",
    "    print('매칭되었습니다.')\n",
    "    print(result)\n",
    "else:\n",
    "    print('매칭되지 않았습니다.')"
   ]
  }
 ],
 "metadata": {
  "kernelspec": {
   "display_name": ".venv",
   "language": "python",
   "name": "python3"
  },
  "language_info": {
   "codemirror_mode": {
    "name": "ipython",
    "version": 3
   },
   "file_extension": ".py",
   "mimetype": "text/x-python",
   "name": "python",
   "nbconvert_exporter": "python",
   "pygments_lexer": "ipython3",
   "version": "3.12.0"
  }
 },
 "nbformat": 4,
 "nbformat_minor": 2
}
