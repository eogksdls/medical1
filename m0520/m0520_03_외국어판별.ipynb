{
 "cells": [
  {
   "cell_type": "code",
   "execution_count": 3,
   "metadata": {},
   "outputs": [],
   "source": [
    "from sklearn import svm,metrics\n",
    "from sklearn.neighbors import KNeighborsClassifier\n",
    "# 자동으로 데이터 셔플 후 나눠주는 모듈\n",
    "from sklearn.model_selection import train_test_split\n",
    "import pandas as pd\n",
    "import numpy as np\n",
    "import random\n",
    "import matplotlib.pyplot as plt\n",
    "import matplotlib\n",
    "import requests\n",
    "import glob, os.path, re\n",
    "\n",
    "# maplotlib.rcParams['font.family'] = 'AppleGothic Gothic   # Mac 사용자\n",
    "matplotlib.rcParams['font.family'] = 'Malgun Gothic'\n",
    "matplotlib.rcParams['font.size'] = '10'  # 글자크기\n",
    "matplotlib.rcParams['axes.unicode_minus'] = False"
   ]
  },
  {
   "cell_type": "markdown",
   "metadata": {},
   "source": [
    "파일 확인"
   ]
  },
  {
   "cell_type": "code",
   "execution_count": 63,
   "metadata": {},
   "outputs": [],
   "source": [
    "# 각 파일 처리 : 함수 이용\n",
    "def load_files(path):\n",
    "    freqs = []\n",
    "    results = []\n",
    "    file_list = glob.glob(path)\n",
    "    for fname in file_list:     # 파일개수 : 20번 실행\n",
    "        name = os.path.basename(fname)  # 파일 1번, 파일 2번\n",
    "        lang = name.split('-')[0]  # en,fr,id,tl..\n",
    "        # 결과값 리스트 저장\n",
    "        results.append(lang)\n",
    "        \n",
    "        with open(fname,'r',encoding='utf-8') as f:       # fname : '../lang/train\\\\en-1.txt', name : en-1.txt\n",
    "            text = f.read()\n",
    "            \n",
    "        text = text.lower()  # 모든 문자를 소문자로\n",
    "        cnt = [0 for n in range(0,26)]  # a~z 카운트 수를 0으로 채움\n",
    "        code_a = ord('a')  # 97\n",
    "        code_z = ord('z')  # 122\n",
    "        \n",
    "        # a-z 사이의 문자만 저장\n",
    "        for ch in text:\n",
    "            n = ord(ch)\n",
    "            if code_a <= n <= code_z:\n",
    "                cnt[n-code_a] += 1   # b: 98-97 = 1 -> 1의 자리에 1증가\n",
    "                \n",
    "        # 정규화 작업 :  각 피쳐마다 비율을 일정하게 맞춤\n",
    "        total = sum(cnt)\n",
    "        # 데이터의 값을 0-1 사이의 값으로 변환\n",
    "        freq = list(map(lambda n : n/total,cnt))\n",
    "        \n",
    "        # data 값을 저장\n",
    "        freqs.append(freq)\n",
    "        \n",
    "        \n",
    "        \n",
    "    return {'freqs': freqs, 'results': results}\n",
    "         "
   ]
  },
  {
   "cell_type": "code",
   "execution_count": 65,
   "metadata": {},
   "outputs": [
    {
     "data": {
      "text/plain": [
       "'en'"
      ]
     },
     "execution_count": 65,
     "metadata": {},
     "output_type": "execute_result"
    }
   ],
   "source": [
    "path = '../lang/train/*.txt'\n",
    "path2 = '../lang/test/*.txt'\n",
    "\n",
    "# 함수 호출\n",
    "data = load_files(path)   # 함수호출 - 20개의 train 데이터를 가져옴\n",
    "test = load_files(path2)  # 함수호출 - 8개의 test 데이터를 가져옴\n",
    "data['freqs'][0]\n",
    "test['freqs'][0]\n",
    "data['results'][0]\n"
   ]
  },
  {
   "cell_type": "markdown",
   "metadata": {},
   "source": [
    "#### 데이터 전처리 - train 세트, test 세트 생성\n",
    "머신러닝순서\n",
    "\n",
    "1. 데이터 전처리\n",
    "\n",
    "2. 데이터 학습시키기 : fit\n",
    "\n",
    "3. 데이터 예측하기 : predict\n",
    "\n",
    "4. 정답률 출력하기 : score"
   ]
  },
  {
   "cell_type": "code",
   "execution_count": 66,
   "metadata": {},
   "outputs": [
    {
     "name": "stdout",
     "output_type": "stream",
     "text": [
      "결과값 :  ['en' 'en' 'fr' 'fr' 'id' 'id' 'tl' 'tl']\n"
     ]
    }
   ],
   "source": [
    "# 데이터 학습시키기\n",
    "clf = svm.SVC()\n",
    "clf.fit(data['freqs'],data['results'])\n",
    "\n",
    "# 데이터 예측하기\n",
    "predict = clf.predict(test['freqs'])\n",
    "print(\"결과값 : \", predict)"
   ]
  },
  {
   "cell_type": "code",
   "execution_count": 67,
   "metadata": {},
   "outputs": [
    {
     "name": "stdout",
     "output_type": "stream",
     "text": [
      "정답률 :  1.0\n"
     ]
    }
   ],
   "source": [
    "# 정답률 출력하기\n",
    "score = clf.score(test['freqs'],test['results'])\n",
    "print(\"정답률 : \", score)"
   ]
  },
  {
   "cell_type": "code",
   "execution_count": 69,
   "metadata": {},
   "outputs": [
    {
     "name": "stdout",
     "output_type": "stream",
     "text": [
      "              precision    recall  f1-score   support\n",
      "\n",
      "          en       1.00      1.00      1.00         2\n",
      "          fr       1.00      1.00      1.00         2\n",
      "          id       1.00      1.00      1.00         2\n",
      "          tl       1.00      1.00      1.00         2\n",
      "\n",
      "    accuracy                           1.00         8\n",
      "   macro avg       1.00      1.00      1.00         8\n",
      "weighted avg       1.00      1.00      1.00         8\n",
      "\n"
     ]
    }
   ],
   "source": [
    "c1_report = metrics.classification_report(test['results'],predict)\n",
    "print(c1_report)"
   ]
  },
  {
   "cell_type": "code",
   "execution_count": 70,
   "metadata": {},
   "outputs": [
    {
     "data": {
      "text/plain": [
       "[0.08417789436031954, 0.019911768212710148, 0.030404196971503518]"
      ]
     },
     "execution_count": 70,
     "metadata": {},
     "output_type": "execute_result"
    }
   ],
   "source": [
    "data['freqs'][1][:3]"
   ]
  },
  {
   "cell_type": "code",
   "execution_count": 72,
   "metadata": {},
   "outputs": [
    {
     "data": {
      "text/plain": [
       "array([<Axes: title={'center': 'en'}>, <Axes: title={'center': 'fr'}>,\n",
       "       <Axes: title={'center': 'id'}>, <Axes: title={'center': 'tl'}>],\n",
       "      dtype=object)"
      ]
     },
     "execution_count": 72,
     "metadata": {},
     "output_type": "execute_result"
    },
    {
     "data": {
      "image/png": "[encoded data removed]",
      "text/plain": [
       "<Figure size 640x480 with 4 Axes>"
      ]
     },
     "metadata": {},
     "output_type": "display_data"
    }
   ],
   "source": [
    "# 그래프 그리기\n",
    "lang_dic = {}\n",
    "for i, result in enumerate(data['results']):\n",
    "    fq = data['freqs'][i]  # data 부분을 가지고 옴.\n",
    "    if not (result in lang_dic):\n",
    "        lang_dic[result] = fq\n",
    "    for idx, v in enumerate(fq):\n",
    "        lang_dic[result][idx] = (lang_dic[result][idx]+v) / 2\n",
    "        \n",
    "# x축의 눈금을 생성\n",
    "asc_list = [chr(n) for n in range(97,122+1)]    # 97: a, 122: z\n",
    "df = pd.DataFrame(lang_dic, index=asc_list)\n",
    "df.plot(kind='bar',subplots=True, ylim=(0,0.15))"
   ]
  },
  {
   "cell_type": "code",
   "execution_count": 75,
   "metadata": {},
   "outputs": [
    {
     "data": {
      "text/plain": [
       "Index(['en', 'fr', 'id', 'tl'], dtype='object')"
      ]
     },
     "execution_count": 75,
     "metadata": {},
     "output_type": "execute_result"
    }
   ],
   "source": [
    "df.columns"
   ]
  },
  {
   "cell_type": "code",
   "execution_count": 76,
   "metadata": {},
   "outputs": [
    {
     "data": {
      "text/html": [
       "<div>\n",
       "<style scoped>\n",
       "    .dataframe tbody tr th:only-of-type {\n",
       "        vertical-align: middle;\n",
       "    }\n",
       "\n",
       "    .dataframe tbody tr th {\n",
       "        vertical-align: top;\n",
       "    }\n",
       "\n",
       "    .dataframe thead th {\n",
       "        text-align: right;\n",
       "    }\n",
       "</style>\n",
       "<table border=\"1\" class=\"dataframe\">\n",
       "  <thead>\n",
       "    <tr style=\"text-align: right;\">\n",
       "      <th></th>\n",
       "      <th>en</th>\n",
       "      <th>fr</th>\n",
       "      <th>id</th>\n",
       "      <th>tl</th>\n",
       "    </tr>\n",
       "  </thead>\n",
       "  <tbody>\n",
       "    <tr>\n",
       "      <th>a</th>\n",
       "      <td>0.073792</td>\n",
       "      <td>0.076364</td>\n",
       "      <td>0.174445</td>\n",
       "      <td>0.200662</td>\n",
       "    </tr>\n",
       "    <tr>\n",
       "      <th>b</th>\n",
       "      <td>0.021171</td>\n",
       "      <td>0.013063</td>\n",
       "      <td>0.025219</td>\n",
       "      <td>0.022221</td>\n",
       "    </tr>\n",
       "    <tr>\n",
       "      <th>c</th>\n",
       "      <td>0.032744</td>\n",
       "      <td>0.036548</td>\n",
       "      <td>0.006991</td>\n",
       "      <td>0.016142</td>\n",
       "    </tr>\n",
       "    <tr>\n",
       "      <th>d</th>\n",
       "      <td>0.038673</td>\n",
       "      <td>0.050288</td>\n",
       "      <td>0.040997</td>\n",
       "      <td>0.028151</td>\n",
       "    </tr>\n",
       "    <tr>\n",
       "      <th>e</th>\n",
       "      <td>0.132650</td>\n",
       "      <td>0.148401</td>\n",
       "      <td>0.080607</td>\n",
       "      <td>0.056933</td>\n",
       "    </tr>\n",
       "    <tr>\n",
       "      <th>f</th>\n",
       "      <td>0.018442</td>\n",
       "      <td>0.012125</td>\n",
       "      <td>0.007259</td>\n",
       "      <td>0.004553</td>\n",
       "    </tr>\n",
       "    <tr>\n",
       "      <th>g</th>\n",
       "      <td>0.022573</td>\n",
       "      <td>0.016470</td>\n",
       "      <td>0.039173</td>\n",
       "      <td>0.053827</td>\n",
       "    </tr>\n",
       "    <tr>\n",
       "      <th>h</th>\n",
       "      <td>0.051041</td>\n",
       "      <td>0.016609</td>\n",
       "      <td>0.018819</td>\n",
       "      <td>0.011328</td>\n",
       "    </tr>\n",
       "    <tr>\n",
       "      <th>i</th>\n",
       "      <td>0.069741</td>\n",
       "      <td>0.085023</td>\n",
       "      <td>0.091622</td>\n",
       "      <td>0.075240</td>\n",
       "    </tr>\n",
       "    <tr>\n",
       "      <th>j</th>\n",
       "      <td>0.002658</td>\n",
       "      <td>0.003776</td>\n",
       "      <td>0.007924</td>\n",
       "      <td>0.002039</td>\n",
       "    </tr>\n",
       "    <tr>\n",
       "      <th>k</th>\n",
       "      <td>0.007488</td>\n",
       "      <td>0.002016</td>\n",
       "      <td>0.037823</td>\n",
       "      <td>0.019873</td>\n",
       "    </tr>\n",
       "    <tr>\n",
       "      <th>l</th>\n",
       "      <td>0.043567</td>\n",
       "      <td>0.059538</td>\n",
       "      <td>0.039214</td>\n",
       "      <td>0.047957</td>\n",
       "    </tr>\n",
       "    <tr>\n",
       "      <th>m</th>\n",
       "      <td>0.025753</td>\n",
       "      <td>0.028642</td>\n",
       "      <td>0.037815</td>\n",
       "      <td>0.030240</td>\n",
       "    </tr>\n",
       "    <tr>\n",
       "      <th>n</th>\n",
       "      <td>0.062506</td>\n",
       "      <td>0.077082</td>\n",
       "      <td>0.095861</td>\n",
       "      <td>0.118094</td>\n",
       "    </tr>\n",
       "    <tr>\n",
       "      <th>o</th>\n",
       "      <td>0.073520</td>\n",
       "      <td>0.058823</td>\n",
       "      <td>0.040490</td>\n",
       "      <td>0.059958</td>\n",
       "    </tr>\n",
       "    <tr>\n",
       "      <th>p</th>\n",
       "      <td>0.018629</td>\n",
       "      <td>0.024872</td>\n",
       "      <td>0.030066</td>\n",
       "      <td>0.030338</td>\n",
       "    </tr>\n",
       "    <tr>\n",
       "      <th>q</th>\n",
       "      <td>0.000918</td>\n",
       "      <td>0.005392</td>\n",
       "      <td>0.000095</td>\n",
       "      <td>0.001093</td>\n",
       "    </tr>\n",
       "    <tr>\n",
       "      <th>r</th>\n",
       "      <td>0.067690</td>\n",
       "      <td>0.078580</td>\n",
       "      <td>0.053822</td>\n",
       "      <td>0.038304</td>\n",
       "    </tr>\n",
       "    <tr>\n",
       "      <th>s</th>\n",
       "      <td>0.067810</td>\n",
       "      <td>0.072223</td>\n",
       "      <td>0.055343</td>\n",
       "      <td>0.060277</td>\n",
       "    </tr>\n",
       "    <tr>\n",
       "      <th>t</th>\n",
       "      <td>0.091860</td>\n",
       "      <td>0.063587</td>\n",
       "      <td>0.050073</td>\n",
       "      <td>0.050185</td>\n",
       "    </tr>\n",
       "    <tr>\n",
       "      <th>u</th>\n",
       "      <td>0.025718</td>\n",
       "      <td>0.045225</td>\n",
       "      <td>0.044672</td>\n",
       "      <td>0.029075</td>\n",
       "    </tr>\n",
       "    <tr>\n",
       "      <th>v</th>\n",
       "      <td>0.010500</td>\n",
       "      <td>0.013928</td>\n",
       "      <td>0.002943</td>\n",
       "      <td>0.004110</td>\n",
       "    </tr>\n",
       "    <tr>\n",
       "      <th>w</th>\n",
       "      <td>0.020452</td>\n",
       "      <td>0.001055</td>\n",
       "      <td>0.004695</td>\n",
       "      <td>0.007805</td>\n",
       "    </tr>\n",
       "    <tr>\n",
       "      <th>x</th>\n",
       "      <td>0.003442</td>\n",
       "      <td>0.004045</td>\n",
       "      <td>0.000347</td>\n",
       "      <td>0.000479</td>\n",
       "    </tr>\n",
       "    <tr>\n",
       "      <th>y</th>\n",
       "      <td>0.015748</td>\n",
       "      <td>0.005127</td>\n",
       "      <td>0.012860</td>\n",
       "      <td>0.028772</td>\n",
       "    </tr>\n",
       "    <tr>\n",
       "      <th>z</th>\n",
       "      <td>0.000915</td>\n",
       "      <td>0.001199</td>\n",
       "      <td>0.000825</td>\n",
       "      <td>0.002344</td>\n",
       "    </tr>\n",
       "  </tbody>\n",
       "</table>\n",
       "</div>"
      ],
      "text/plain": [
       "         en        fr        id        tl\n",
       "a  0.073792  0.076364  0.174445  0.200662\n",
       "b  0.021171  0.013063  0.025219  0.022221\n",
       "c  0.032744  0.036548  0.006991  0.016142\n",
       "d  0.038673  0.050288  0.040997  0.028151\n",
       "e  0.132650  0.148401  0.080607  0.056933\n",
       "f  0.018442  0.012125  0.007259  0.004553\n",
       "g  0.022573  0.016470  0.039173  0.053827\n",
       "h  0.051041  0.016609  0.018819  0.011328\n",
       "i  0.069741  0.085023  0.091622  0.075240\n",
       "j  0.002658  0.003776  0.007924  0.002039\n",
       "k  0.007488  0.002016  0.037823  0.019873\n",
       "l  0.043567  0.059538  0.039214  0.047957\n",
       "m  0.025753  0.028642  0.037815  0.030240\n",
       "n  0.062506  0.077082  0.095861  0.118094\n",
       "o  0.073520  0.058823  0.040490  0.059958\n",
       "p  0.018629  0.024872  0.030066  0.030338\n",
       "q  0.000918  0.005392  0.000095  0.001093\n",
       "r  0.067690  0.078580  0.053822  0.038304\n",
       "s  0.067810  0.072223  0.055343  0.060277\n",
       "t  0.091860  0.063587  0.050073  0.050185\n",
       "u  0.025718  0.045225  0.044672  0.029075\n",
       "v  0.010500  0.013928  0.002943  0.004110\n",
       "w  0.020452  0.001055  0.004695  0.007805\n",
       "x  0.003442  0.004045  0.000347  0.000479\n",
       "y  0.015748  0.005127  0.012860  0.028772\n",
       "z  0.000915  0.001199  0.000825  0.002344"
      ]
     },
     "execution_count": 76,
     "metadata": {},
     "output_type": "execute_result"
    }
   ],
   "source": [
    "df"
   ]
  },
  {
   "cell_type": "code",
   "execution_count": 79,
   "metadata": {},
   "outputs": [
    {
     "data": {
      "text/plain": [
       "(0.0, 0.15)"
      ]
     },
     "execution_count": 79,
     "metadata": {},
     "output_type": "execute_result"
    },
    {
     "data": {
      "image/png": "[encoded data removed]",
      "text/plain": [
       "<Figure size 640x480 with 4 Axes>"
      ]
     },
     "metadata": {},
     "output_type": "display_data"
    }
   ],
   "source": [
    "fig, axs = plt.subplots(4)\n",
    "axs[0].bar(df.index, df['en'],label=df.columns[0])\n",
    "axs[0].legend()\n",
    "axs[0].set_ylim(0,0.15)\n",
    "\n",
    "axs[1].bar(df.index, df['fr'],label=df.columns[1])\n",
    "axs[1].legend()\n",
    "axs[1].set_ylim(0,0.15)\n",
    "\n",
    "axs[2].bar(df.index, df['id'],label=df.columns[2])\n",
    "axs[2].legend()\n",
    "axs[2].set_ylim(0,0.15)\n",
    "\n",
    "axs[3].bar(df.index, df['tl'],label=df.columns[3])\n",
    "axs[3].legend()\n",
    "axs[3].set_ylim(0,0.15)"
   ]
  },
  {
   "cell_type": "code",
   "execution_count": 34,
   "metadata": {},
   "outputs": [
    {
     "data": {
      "text/plain": [
       "'\\x02'"
      ]
     },
     "execution_count": 34,
     "metadata": {},
     "output_type": "execute_result"
    }
   ],
   "source": [
    "# 아스키 코드 : 문자를 숫자 형태로표시, A: 65, a: 97, 숫자 0: 48\n",
    "chr(65+32)\n",
    "chr(97-32)\n",
    "chr(50-48)  # 숫자 2가 아닌 문자 2가 출력됨, 숫자 2는 chr(50)"
   ]
  },
  {
   "cell_type": "code",
   "execution_count": 36,
   "metadata": {},
   "outputs": [
    {
     "data": {
      "text/plain": [
       "array([0., 0., 0., 0., 0., 0., 0., 0., 0., 0., 0., 0., 0., 0., 0., 0., 0.,\n",
       "       0., 0., 0., 0., 0., 0., 0., 0., 0.])"
      ]
     },
     "execution_count": 36,
     "metadata": {},
     "output_type": "execute_result"
    }
   ],
   "source": [
    "np.zeros(26)\n",
    "np.ones(26)\n",
    "[0 for n in range(0,20)]"
   ]
  },
  {
   "cell_type": "code",
   "execution_count": 40,
   "metadata": {},
   "outputs": [
    {
     "data": {
      "text/plain": [
       "97"
      ]
     },
     "execution_count": 40,
     "metadata": {},
     "output_type": "execute_result"
    }
   ],
   "source": [
    "# ord : 문자를 넣어주면, 숫자형태로 변환해줌\n",
    "ord('a')"
   ]
  },
  {
   "cell_type": "code",
   "execution_count": 62,
   "metadata": {},
   "outputs": [],
   "source": [
    "# 데이터를 가져와서 출력해보는 것을 먼저!\n",
    "# name = os.path.basename(file_train[0])\n",
    "# name\n",
    "# lang = name.split('-')\n",
    "# print(lang[0])\n",
    "\n",
    "# cnt = [ 0 for n in range(0,26)]\n",
    "\n",
    "# # 1개 파일 내용 읽어오기\n",
    "# with open('../lang/train/'+name, 'r', encoding='utf-8') as f:\n",
    "#     # print(f.read())\n",
    "#     text = f.read()\n",
    "#     text = text.lower() # 모두 소문자로 치환\n",
    "#     # 문자 개수 세기\n",
    "#     # 영문자가 26개 있음. 배열 26개짜리를 1개 생성, 이후 알파벳 당 개수를 카운드해서 해당 자리값에 넣어줌\n",
    "    \n",
    "#     # 1개씩 문자를 읽어와서 26개의 배열에서 1씩 추가\n",
    "#     code_a = ord('a')\n",
    "#     code_z = ord('z')\n",
    "#     for ch in text: \n",
    "#         n = ord(ch)  # 텍스트 내 알파벳을 숫자형태로 바꿔줌\n",
    "#         if code_a <= n <= code_z:  # a~z 사이의 문자이면\n",
    "#             # 리스트에 저장\n",
    "#             cnt[n-code_a] += 1   # 해당되는 위치에 1을 증가  # 완전 신기해욧\n",
    "        \n",
    "#     # 정규화\n",
    "#     total = sum(cnt)\n",
    "    \n",
    "#     # freq의 배열의 값을 total로 나눠서 다시 리스트를 만들음.\n",
    "#     freq = []\n",
    "#     for i in cnt:\n",
    "#         freq.append((i/total))\n",
    "        \n",
    "#     freq = list(map(lambda n : n/total,cnt))\n",
    "        \n",
    "        \n",
    "# print(freq)"
   ]
  },
  {
   "cell_type": "code",
   "execution_count": 61,
   "metadata": {},
   "outputs": [],
   "source": [
    "# name = os.path.basename(file_train[0])\n",
    "# 폴더의 모든 파일의 이름을 가져옴\n",
    "\n",
    "# data = []\n",
    "# results = []\n",
    "\n",
    "# for f_name in file_train:\n",
    "#     name = os.path.basename(f_name)\n",
    "#     # print(name)\n",
    "    \n",
    "#     # 데이터 가져오기\n",
    "    \n",
    "    \n",
    "    \n",
    "#     # str split을 사용해서 앞에 있는 2글자만 분리해서 출력하시오\n",
    "#     lang = name.split('-')    # 리스트 형태로 분리된다\n",
    "#     # print(lang)\n",
    "#     results.append(lang[0])\n",
    "    \n",
    "# results"
   ]
  },
  {
   "cell_type": "code",
   "execution_count": null,
   "metadata": {},
   "outputs": [],
   "source": []
  }
 ],
 "metadata": {
  "kernelspec": {
   "display_name": "Python 3",
   "language": "python",
   "name": "python3"
  },
  "language_info": {
   "codemirror_mode": {
    "name": "ipython",
    "version": 3
   },
   "file_extension": ".py",
   "mimetype": "text/x-python",
   "name": "python",
   "nbconvert_exporter": "python",
   "pygments_lexer": "ipython3",
   "version": "3.12.0"
  }
 },
 "nbformat": 4,
 "nbformat_minor": 2
}
