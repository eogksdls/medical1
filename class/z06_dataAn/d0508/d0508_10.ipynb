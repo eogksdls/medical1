{
 "cells": [
  {
   "cell_type": "code",
   "execution_count": 1,
   "metadata": {},
   "outputs": [],
   "source": [
    "import pandas as pd\n",
    "\n",
    "df = pd.read_excel('score.xlsx',index_col='지원번호')\n",
    "\n"
   ]
  },
  {
   "cell_type": "code",
   "execution_count": 17,
   "metadata": {},
   "outputs": [
    {
     "name": "stdout",
     "output_type": "stream",
     "text": [
      "       이름   학교    키  국어  영어  수학   과학  사회 SW특기\n",
      "지원번호                                         \n",
      "4번    김수찬  구로고  187  88  93  84   28  57  NaN\n",
      "5번    김재욱  구로고  188  75  38  99  100  96  NaN\n"
     ]
    }
   ],
   "source": [
    "# inputName = input('이름을 입력하세요 : ')\n",
    "inputName = '김'\n",
    "filt = df['이름'].str.contains(inputName)\n",
    "\n",
    "if df.loc[filt,'이름'].count() > 0:\n",
    "    print(df[filt])\n",
    "else:\n",
    "    print(\"검색한 데이터가 없습니다.\")"
   ]
  },
  {
   "cell_type": "code",
   "execution_count": 27,
   "metadata": {},
   "outputs": [
    {
     "name": "stdout",
     "output_type": "stream",
     "text": [
      "150 점 이상의 국어 성적 데이터가 없습니다.\n"
     ]
    }
   ],
   "source": [
    "## 국어점수 : 입력받은 점수 이상의 학생 성적 데이터를 출력하시오\n",
    "\n",
    "inputScore = int(input(\"점수를 입력하세요 : \"))  # int로 변환해주어야 점수 비교가 가능해짐\n",
    "filt = df['국어'] > inputScore\n",
    "\n",
    "if df.loc[filt,'국어'].count() > 0:\n",
    "    print(df[filt])\n",
    "else:\n",
    "    print(inputScore,\"점 이상의 국어 성적 데이터가 없습니다.\")"
   ]
  },
  {
   "cell_type": "code",
   "execution_count": 39,
   "metadata": {},
   "outputs": [
    {
     "data": {
      "text/html": [
       "<div>\n",
       "<style scoped>\n",
       "    .dataframe tbody tr th:only-of-type {\n",
       "        vertical-align: middle;\n",
       "    }\n",
       "\n",
       "    .dataframe tbody tr th {\n",
       "        vertical-align: top;\n",
       "    }\n",
       "\n",
       "    .dataframe thead th {\n",
       "        text-align: right;\n",
       "    }\n",
       "</style>\n",
       "<table border=\"1\" class=\"dataframe\">\n",
       "  <thead>\n",
       "    <tr style=\"text-align: right;\">\n",
       "      <th></th>\n",
       "      <th>title</th>\n",
       "    </tr>\n",
       "  </thead>\n",
       "  <tbody>\n",
       "    <tr>\n",
       "      <th>0</th>\n",
       "      <td>내일은 날씨가 맑음. 반가워 다음에 봐요</td>\n",
       "    </tr>\n",
       "    <tr>\n",
       "      <th>1</th>\n",
       "      <td>반갑습니다. 반가워</td>\n",
       "    </tr>\n",
       "    <tr>\n",
       "      <th>2</th>\n",
       "      <td>내일봐요. 내일은 날씨가 좋아요. 반가워</td>\n",
       "    </tr>\n",
       "  </tbody>\n",
       "</table>\n",
       "</div>"
      ],
      "text/plain": [
       "                    title\n",
       "0  내일은 날씨가 맑음. 반가워 다음에 봐요\n",
       "1              반갑습니다. 반가워\n",
       "2  내일봐요. 내일은 날씨가 좋아요. 반가워"
      ]
     },
     "execution_count": 39,
     "metadata": {},
     "output_type": "execute_result"
    }
   ],
   "source": [
    "a = \"내일은 날씨가 맑음. 안녕 다음에 봐요\"\n",
    "# 안녕 -> 반가워\n",
    "# a.replace('안녕','반가워')\n",
    "\n",
    "a_list = [a,'반갑습니다. 안녕','내일봐요. 내일은 날씨가 좋아요. 안녕']\n",
    "data = {\"title\":a_list}\n",
    "df = pd.DataFrame(data)\n",
    "\n",
    "df['title'] = df['title'].str.replace('안녕','반가워')\n",
    "df"
   ]
  }
 ],
 "metadata": {
  "kernelspec": {
   "display_name": "Python 3",
   "language": "python",
   "name": "python3"
  },
  "language_info": {
   "codemirror_mode": {
    "name": "ipython",
    "version": 3
   },
   "file_extension": ".py",
   "mimetype": "text/x-python",
   "name": "python",
   "nbconvert_exporter": "python",
   "pygments_lexer": "ipython3",
   "version": "3.12.0"
  }
 },
 "nbformat": 4,
 "nbformat_minor": 2
}
