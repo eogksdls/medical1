{
 "cells": [
  {
   "cell_type": "code",
   "execution_count": 56,
   "metadata": {},
   "outputs": [],
   "source": [
    "import requests\n",
    "import time\n",
    "import random\n",
    "from bs4 import BeautifulSoup\n",
    "from selenium import webdriver\n",
    "from selenium.webdriver.common.by import By\n",
    "from selenium.webdriver.common.keys import Keys\n",
    "import pyautogui\n",
    "\n",
    "# 화면이 나타나는 것을 확인\n",
    "from selenium.webdriver.support.ui import WebDriverWait\n",
    "from selenium.webdriver.support import expected_conditions as EC\n",
    "\n",
    "headers = {\"User-Agent\":\"Mozilla/5.0 (Windows NT 10.0; Win64; x64) AppleWebKit/537.36 (KHTML, like Gecko) Chrome/124.0.0.0 Safari/537.36\",\"Accep-Language\":\"ko-KR,ko;q=0.9,en-US;q=0.8,en;q=0.7\"}\n",
    "url = \"https://www.coupang.com/vp/products/227331483?itemId=720227345&vendorItemId=4822351124&q=%ED%95%98%EB%A6%BC+%EB%8B%AD%EA%B0%80%EC%8A%B4%EC%82%B4&itemsCount=36&searchId=18e6f70897d947fb8c6517c2cf59f437&rank=0&isAddedCart=\""
   ]
  },
  {
   "cell_type": "code",
   "execution_count": 57,
   "metadata": {},
   "outputs": [],
   "source": [
    "# 쿠팡 자동화 차단 해제\n",
    "options = webdriver.ChromeOptions()\n",
    "options.add_argument('--disable-blink-features=AutomationControlled')\n",
    "browser = webdriver.Chrome(options=options)\n",
    "\n",
    "# 브라우저 열기\n",
    "# browser.maximize_window()\n",
    "browser.get(url)\n",
    "\n",
    "time.sleep(5)\n",
    "pyautogui.scroll(-1000)\n",
    "time.sleep(2)\n",
    "pyautogui.scroll(-500)\n",
    "\n",
    "# 상품평 클릭\n",
    "time.sleep(5)\n",
    "elem = browser.find_element(By.XPATH,'//*[@id=\"btfTab\"]/ul[1]/li[2]')\n",
    "elem.click()\n",
    "\n",
    "time.sleep(2)\n",
    "pyautogui.scroll(-150)"
   ]
  },
  {
   "cell_type": "code",
   "execution_count": 58,
   "metadata": {},
   "outputs": [],
   "source": [
    "# # 데이터 불러오기 - 파일저장\n",
    "soup = BeautifulSoup(browser.page_source,\"lxml\")\n",
    "# with open(\"test.html\",\"w\",encoding=\"utf8\") as f:\n",
    "#     # f.write(soup.prettify())\n",
    "#     # 평점별로 정보 불러오기\n",
    "bad = soup.find_all(\"section\",{\"class\":\"js_reviewArticleListContainer\"})\n",
    "    "
   ]
  },
  {
   "cell_type": "code",
   "execution_count": 59,
   "metadata": {},
   "outputs": [
    {
     "ename": "AttributeError",
     "evalue": "ResultSet object has no attribute 'find_all'. You're probably treating a list of elements like a single element. Did you call find_all() when you meant to call find()?",
     "output_type": "error",
     "traceback": [
      "\u001b[1;31m---------------------------------------------------------------------------\u001b[0m",
      "\u001b[1;31mAttributeError\u001b[0m                            Traceback (most recent call last)",
      "Cell \u001b[1;32mIn[59], line 5\u001b[0m\n\u001b[0;32m      2\u001b[0m reviews \u001b[38;5;241m=\u001b[39m []\n\u001b[0;32m      3\u001b[0m results \u001b[38;5;241m=\u001b[39m []\n\u001b[1;32m----> 5\u001b[0m bad_list \u001b[38;5;241m=\u001b[39m \u001b[43mbad\u001b[49m\u001b[38;5;241;43m.\u001b[39;49m\u001b[43mfind_all\u001b[49m(\u001b[38;5;124m\"\u001b[39m\u001b[38;5;124marticle\u001b[39m\u001b[38;5;124m\"\u001b[39m,{\u001b[38;5;124m\"\u001b[39m\u001b[38;5;124mclass\u001b[39m\u001b[38;5;124m\"\u001b[39m:\u001b[38;5;124m\"\u001b[39m\u001b[38;5;124msdp-review__article__list js_reviewArticleReviewList\u001b[39m\u001b[38;5;124m\"\u001b[39m})\n\u001b[0;32m      6\u001b[0m \u001b[38;5;28mprint\u001b[39m(\u001b[38;5;28mlen\u001b[39m(bad_list))\n\u001b[0;32m      8\u001b[0m \u001b[38;5;28;01mfor\u001b[39;00m i, review \u001b[38;5;129;01min\u001b[39;00m \u001b[38;5;28menumerate\u001b[39m(bad_list):\n",
      "File \u001b[1;32mc:\\Python312\\Lib\\site-packages\\bs4\\element.py:2433\u001b[0m, in \u001b[0;36mResultSet.__getattr__\u001b[1;34m(self, key)\u001b[0m\n\u001b[0;32m   2431\u001b[0m \u001b[38;5;28;01mdef\u001b[39;00m \u001b[38;5;21m__getattr__\u001b[39m(\u001b[38;5;28mself\u001b[39m, key):\n\u001b[0;32m   2432\u001b[0m \u001b[38;5;250m    \u001b[39m\u001b[38;5;124;03m\"\"\"Raise a helpful exception to explain a common code fix.\"\"\"\u001b[39;00m\n\u001b[1;32m-> 2433\u001b[0m     \u001b[38;5;28;01mraise\u001b[39;00m \u001b[38;5;167;01mAttributeError\u001b[39;00m(\n\u001b[0;32m   2434\u001b[0m         \u001b[38;5;124m\"\u001b[39m\u001b[38;5;124mResultSet object has no attribute \u001b[39m\u001b[38;5;124m'\u001b[39m\u001b[38;5;132;01m%s\u001b[39;00m\u001b[38;5;124m'\u001b[39m\u001b[38;5;124m. You\u001b[39m\u001b[38;5;124m'\u001b[39m\u001b[38;5;124mre probably treating a list of elements like a single element. Did you call find_all() when you meant to call find()?\u001b[39m\u001b[38;5;124m\"\u001b[39m \u001b[38;5;241m%\u001b[39m key\n\u001b[0;32m   2435\u001b[0m     )\n",
      "\u001b[1;31mAttributeError\u001b[0m: ResultSet object has no attribute 'find_all'. You're probably treating a list of elements like a single element. Did you call find_all() when you meant to call find()?"
     ]
    }
   ],
   "source": [
    "\n",
    "scores = []\n",
    "reviews = []\n",
    "results = []\n",
    "\n",
    "bad_list = bad.find_all(\"article\",{\"class\":\"sdp-review__article__list js_reviewArticleReviewList\"})\n",
    "print(len(bad_list))\n",
    "\n",
    "for i, review in enumerate(bad_list):\n",
    "    try:\n",
    "        print(\"순번\" , i+1)\n",
    "        b_review = review.find(\"div\",{\"class\":\"sdp-review__article__list__review__content js_reviewArticleContent\"}).text.strip()\n",
    "        reviews.append(b_review)\n",
    "        \n",
    "        scores.append(1)\n",
    "        results.append(0)\n",
    "    except:\n",
    "        print(\"에러처리 : \",i+1)"
   ]
  },
  {
   "cell_type": "code",
   "execution_count": null,
   "metadata": {},
   "outputs": [],
   "source": [
    "print(scores)\n",
    "print(reviews)\n",
    "print(results)"
   ]
  }
 ],
 "metadata": {
  "kernelspec": {
   "display_name": "Python 3",
   "language": "python",
   "name": "python3"
  },
  "language_info": {
   "codemirror_mode": {
    "name": "ipython",
    "version": 3
   },
   "file_extension": ".py",
   "mimetype": "text/x-python",
   "name": "python",
   "nbconvert_exporter": "python",
   "pygments_lexer": "ipython3",
   "version": "3.12.3"
  }
 },
 "nbformat": 4,
 "nbformat_minor": 2
}
