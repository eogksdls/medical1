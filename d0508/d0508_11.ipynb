{
 "cells": [
  {
   "cell_type": "code",
   "execution_count": 24,
   "metadata": {},
   "outputs": [
    {
     "name": "stdout",
     "output_type": "stream",
     "text": [
      "전국합계 :  25,631,538 명\n"
     ]
    },
    {
     "name": "stderr",
     "output_type": "stream",
     "text": [
      "c:\\Python312\\Lib\\site-packages\\openpyxl\\styles\\stylesheet.py:226: UserWarning: Workbook contains no default style, apply openpyxl's default\n",
      "  warn(\"Workbook contains no default style, apply openpyxl's default\")\n"
     ]
    }
   ],
   "source": [
    "import pandas as pd\n",
    "\n",
    "df = pd.read_excel('20230103_인구.xlsx',skiprows=3,usecols='B,E:Y',index_col='행정기관')\n",
    "\n",
    "df.shape[0]  # 행 개수\n",
    "\n",
    "for i in range(df.shape[0]):\n",
    "    df.iloc[i] = df.iloc[i].str.replace(',','').astype(int)\n",
    "df['0~4세'].sum()\n",
    "# df.columns.values # 열 이름 알 수 있게\n",
    "\n",
    "\n",
    "df.shape[1] # 열 개수\n",
    "sum = 0\n",
    "for i in range(df.shape[1]):\n",
    "    # 전국 합계 구하고 싶음\n",
    "    sum += df.iloc[0,i]\n",
    "print(\"전국합계 : \",format(sum,','),\"명\")\n"
   ]
  },
  {
   "cell_type": "code",
   "execution_count": null,
   "metadata": {},
   "outputs": [],
   "source": [
    "\n"
   ]
  }
 ],
 "metadata": {
  "kernelspec": {
   "display_name": "Python 3",
   "language": "python",
   "name": "python3"
  },
  "language_info": {
   "codemirror_mode": {
    "name": "ipython",
    "version": 3
   },
   "file_extension": ".py",
   "mimetype": "text/x-python",
   "name": "python",
   "nbconvert_exporter": "python",
   "pygments_lexer": "ipython3",
   "version": "3.12.0"
  }
 },
 "nbformat": 4,
 "nbformat_minor": 2
}
