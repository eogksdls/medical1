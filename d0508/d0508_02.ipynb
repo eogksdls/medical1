{
 "cells": [
  {
   "cell_type": "code",
   "execution_count": 34,
   "metadata": {},
   "outputs": [],
   "source": [
    "import pandas as pd\n",
    "\n",
    "df = pd.read_excel('score.xlsx',index_col='지원번호')\n",
    "df.sort_index(inplace=True)\n",
    "df\n",
    "\n",
    "df.to_csv('score.csv',encoding='utf-8-sig')\n",
    "df.to_csv('score.txt',encoding='utf-8')\n",
    "df.to_excel('score.xlsx')"
   ]
  },
  {
   "cell_type": "code",
   "execution_count": 4,
   "metadata": {},
   "outputs": [
    {
     "data": {
      "text/plain": [
       "Index(['이름', '학교', '키', '국어', '영어', '수학', '과학', '사회', 'SW특기'], dtype='object')"
      ]
     },
     "execution_count": 4,
     "metadata": {},
     "output_type": "execute_result"
    }
   ],
   "source": [
    "df.columns # 모든 컬럼을 보여줌."
   ]
  },
  {
   "cell_type": "code",
   "execution_count": 10,
   "metadata": {},
   "outputs": [
    {
     "data": {
      "text/plain": [
       "이름      8\n",
       "학교      8\n",
       "키       8\n",
       "국어      8\n",
       "영어      8\n",
       "수학      8\n",
       "과학      8\n",
       "사회      8\n",
       "SW특기    6\n",
       "dtype: int64"
      ]
     },
     "execution_count": 10,
     "metadata": {},
     "output_type": "execute_result"
    }
   ],
   "source": [
    "# int, float타입의 개수, 평균, 분산,..등 대략적인 통계 값을 보여줌.\n",
    "df.describe()\n",
    "df.count() #해당하는 키값들의 value개수"
   ]
  },
  {
   "cell_type": "code",
   "execution_count": 8,
   "metadata": {},
   "outputs": [
    {
     "data": {
      "text/plain": [
       "count      8.000000\n",
       "mean     189.250000\n",
       "std       10.039209\n",
       "min      168.000000\n",
       "25%      187.750000\n",
       "50%      189.000000\n",
       "75%      194.750000\n",
       "max      202.000000\n",
       "Name: 키, dtype: float64"
      ]
     },
     "execution_count": 8,
     "metadata": {},
     "output_type": "execute_result"
    }
   ],
   "source": [
    "df['키'].describe()"
   ]
  },
  {
   "cell_type": "code",
   "execution_count": 11,
   "metadata": {},
   "outputs": [
    {
     "data": {
      "text/plain": [
       "8"
      ]
     },
     "execution_count": 11,
     "metadata": {},
     "output_type": "execute_result"
    }
   ],
   "source": [
    "# 각 컬럼별 평균, 최댓값, 최솟값 등 통계 출력\n",
    "df['키'].mean()\n",
    "df['키'].count()\n",
    "df['키'].max()\n",
    "df['키'].min()\n",
    "df['키'].count()"
   ]
  },
  {
   "cell_type": "code",
   "execution_count": 20,
   "metadata": {},
   "outputs": [
    {
     "data": {
      "text/html": [
       "<div>\n",
       "<style scoped>\n",
       "    .dataframe tbody tr th:only-of-type {\n",
       "        vertical-align: middle;\n",
       "    }\n",
       "\n",
       "    .dataframe tbody tr th {\n",
       "        vertical-align: top;\n",
       "    }\n",
       "\n",
       "    .dataframe thead th {\n",
       "        text-align: right;\n",
       "    }\n",
       "</style>\n",
       "<table border=\"1\" class=\"dataframe\">\n",
       "  <thead>\n",
       "    <tr style=\"text-align: right;\">\n",
       "      <th></th>\n",
       "      <th>no</th>\n",
       "      <th>id</th>\n",
       "      <th>kor</th>\n",
       "      <th>eng</th>\n",
       "      <th>math</th>\n",
       "      <th>total</th>\n",
       "      <th>avg</th>\n",
       "      <th>rank</th>\n",
       "      <th>c_date</th>\n",
       "    </tr>\n",
       "  </thead>\n",
       "  <tbody>\n",
       "    <tr>\n",
       "      <th>0</th>\n",
       "      <td>1</td>\n",
       "      <td>Joelynn</td>\n",
       "      <td>55</td>\n",
       "      <td>87</td>\n",
       "      <td>68</td>\n",
       "      <td>210</td>\n",
       "      <td>70.000000</td>\n",
       "      <td>0</td>\n",
       "      <td>2024-04-04</td>\n",
       "    </tr>\n",
       "    <tr>\n",
       "      <th>1</th>\n",
       "      <td>2</td>\n",
       "      <td>Bambie</td>\n",
       "      <td>73</td>\n",
       "      <td>69</td>\n",
       "      <td>77</td>\n",
       "      <td>219</td>\n",
       "      <td>73.000000</td>\n",
       "      <td>0</td>\n",
       "      <td>2024-04-01</td>\n",
       "    </tr>\n",
       "    <tr>\n",
       "      <th>2</th>\n",
       "      <td>3</td>\n",
       "      <td>Orin</td>\n",
       "      <td>92</td>\n",
       "      <td>97</td>\n",
       "      <td>90</td>\n",
       "      <td>279</td>\n",
       "      <td>93.000000</td>\n",
       "      <td>0</td>\n",
       "      <td>2024-04-04</td>\n",
       "    </tr>\n",
       "    <tr>\n",
       "      <th>3</th>\n",
       "      <td>4</td>\n",
       "      <td>Puff</td>\n",
       "      <td>98</td>\n",
       "      <td>60</td>\n",
       "      <td>78</td>\n",
       "      <td>236</td>\n",
       "      <td>78.666667</td>\n",
       "      <td>0</td>\n",
       "      <td>2024-04-04</td>\n",
       "    </tr>\n",
       "    <tr>\n",
       "      <th>4</th>\n",
       "      <td>5</td>\n",
       "      <td>Godfree</td>\n",
       "      <td>66</td>\n",
       "      <td>72</td>\n",
       "      <td>59</td>\n",
       "      <td>197</td>\n",
       "      <td>65.666667</td>\n",
       "      <td>0</td>\n",
       "      <td>2024-04-06</td>\n",
       "    </tr>\n",
       "    <tr>\n",
       "      <th>...</th>\n",
       "      <td>...</td>\n",
       "      <td>...</td>\n",
       "      <td>...</td>\n",
       "      <td>...</td>\n",
       "      <td>...</td>\n",
       "      <td>...</td>\n",
       "      <td>...</td>\n",
       "      <td>...</td>\n",
       "      <td>...</td>\n",
       "    </tr>\n",
       "    <tr>\n",
       "      <th>995</th>\n",
       "      <td>996</td>\n",
       "      <td>Wilburt</td>\n",
       "      <td>59</td>\n",
       "      <td>64</td>\n",
       "      <td>51</td>\n",
       "      <td>174</td>\n",
       "      <td>58.000000</td>\n",
       "      <td>0</td>\n",
       "      <td>2024-04-01</td>\n",
       "    </tr>\n",
       "    <tr>\n",
       "      <th>996</th>\n",
       "      <td>997</td>\n",
       "      <td>Broddie</td>\n",
       "      <td>89</td>\n",
       "      <td>53</td>\n",
       "      <td>54</td>\n",
       "      <td>196</td>\n",
       "      <td>65.333333</td>\n",
       "      <td>0</td>\n",
       "      <td>2024-04-06</td>\n",
       "    </tr>\n",
       "    <tr>\n",
       "      <th>997</th>\n",
       "      <td>998</td>\n",
       "      <td>Baxter</td>\n",
       "      <td>63</td>\n",
       "      <td>82</td>\n",
       "      <td>78</td>\n",
       "      <td>223</td>\n",
       "      <td>74.333333</td>\n",
       "      <td>0</td>\n",
       "      <td>2024-04-02</td>\n",
       "    </tr>\n",
       "    <tr>\n",
       "      <th>998</th>\n",
       "      <td>999</td>\n",
       "      <td>Ignacio</td>\n",
       "      <td>61</td>\n",
       "      <td>60</td>\n",
       "      <td>96</td>\n",
       "      <td>217</td>\n",
       "      <td>72.333333</td>\n",
       "      <td>0</td>\n",
       "      <td>2024-04-07</td>\n",
       "    </tr>\n",
       "    <tr>\n",
       "      <th>999</th>\n",
       "      <td>1000</td>\n",
       "      <td>Wallache</td>\n",
       "      <td>83</td>\n",
       "      <td>64</td>\n",
       "      <td>56</td>\n",
       "      <td>203</td>\n",
       "      <td>67.666667</td>\n",
       "      <td>0</td>\n",
       "      <td>2024-04-08</td>\n",
       "    </tr>\n",
       "  </tbody>\n",
       "</table>\n",
       "<p>1000 rows × 9 columns</p>\n",
       "</div>"
      ],
      "text/plain": [
       "       no        id  kor  eng  math  total        avg  rank      c_date\n",
       "0       1   Joelynn   55   87    68    210  70.000000     0  2024-04-04\n",
       "1       2    Bambie   73   69    77    219  73.000000     0  2024-04-01\n",
       "2       3      Orin   92   97    90    279  93.000000     0  2024-04-04\n",
       "3       4      Puff   98   60    78    236  78.666667     0  2024-04-04\n",
       "4       5   Godfree   66   72    59    197  65.666667     0  2024-04-06\n",
       "..    ...       ...  ...  ...   ...    ...        ...   ...         ...\n",
       "995   996   Wilburt   59   64    51    174  58.000000     0  2024-04-01\n",
       "996   997   Broddie   89   53    54    196  65.333333     0  2024-04-06\n",
       "997   998    Baxter   63   82    78    223  74.333333     0  2024-04-02\n",
       "998   999   Ignacio   61   60    96    217  72.333333     0  2024-04-07\n",
       "999  1000  Wallache   83   64    56    203  67.666667     0  2024-04-08\n",
       "\n",
       "[1000 rows x 9 columns]"
      ]
     },
     "execution_count": 20,
     "metadata": {},
     "output_type": "execute_result"
    }
   ],
   "source": [
    "df = pd.read_csv('stu_score1.csv',encoding='utf-8')\n",
    "df"
   ]
  },
  {
   "cell_type": "code",
   "execution_count": 13,
   "metadata": {},
   "outputs": [
    {
     "data": {
      "text/html": [
       "<div>\n",
       "<style scoped>\n",
       "    .dataframe tbody tr th:only-of-type {\n",
       "        vertical-align: middle;\n",
       "    }\n",
       "\n",
       "    .dataframe tbody tr th {\n",
       "        vertical-align: top;\n",
       "    }\n",
       "\n",
       "    .dataframe thead th {\n",
       "        text-align: right;\n",
       "    }\n",
       "</style>\n",
       "<table border=\"1\" class=\"dataframe\">\n",
       "  <thead>\n",
       "    <tr style=\"text-align: right;\">\n",
       "      <th></th>\n",
       "      <th>no</th>\n",
       "      <th>id</th>\n",
       "      <th>kor</th>\n",
       "      <th>eng</th>\n",
       "      <th>math</th>\n",
       "      <th>total</th>\n",
       "      <th>avg</th>\n",
       "      <th>rank</th>\n",
       "      <th>c_date</th>\n",
       "    </tr>\n",
       "  </thead>\n",
       "  <tbody>\n",
       "    <tr>\n",
       "      <th>0</th>\n",
       "      <td>1</td>\n",
       "      <td>Joelynn</td>\n",
       "      <td>55</td>\n",
       "      <td>87</td>\n",
       "      <td>68</td>\n",
       "      <td>210</td>\n",
       "      <td>70.000000</td>\n",
       "      <td>0</td>\n",
       "      <td>2024-04-04</td>\n",
       "    </tr>\n",
       "    <tr>\n",
       "      <th>1</th>\n",
       "      <td>2</td>\n",
       "      <td>Bambie</td>\n",
       "      <td>73</td>\n",
       "      <td>69</td>\n",
       "      <td>77</td>\n",
       "      <td>219</td>\n",
       "      <td>73.000000</td>\n",
       "      <td>0</td>\n",
       "      <td>2024-04-01</td>\n",
       "    </tr>\n",
       "    <tr>\n",
       "      <th>2</th>\n",
       "      <td>3</td>\n",
       "      <td>Orin</td>\n",
       "      <td>92</td>\n",
       "      <td>97</td>\n",
       "      <td>90</td>\n",
       "      <td>279</td>\n",
       "      <td>93.000000</td>\n",
       "      <td>0</td>\n",
       "      <td>2024-04-04</td>\n",
       "    </tr>\n",
       "    <tr>\n",
       "      <th>3</th>\n",
       "      <td>4</td>\n",
       "      <td>Puff</td>\n",
       "      <td>98</td>\n",
       "      <td>60</td>\n",
       "      <td>78</td>\n",
       "      <td>236</td>\n",
       "      <td>78.666667</td>\n",
       "      <td>0</td>\n",
       "      <td>2024-04-04</td>\n",
       "    </tr>\n",
       "    <tr>\n",
       "      <th>4</th>\n",
       "      <td>5</td>\n",
       "      <td>Godfree</td>\n",
       "      <td>66</td>\n",
       "      <td>72</td>\n",
       "      <td>59</td>\n",
       "      <td>197</td>\n",
       "      <td>65.666667</td>\n",
       "      <td>0</td>\n",
       "      <td>2024-04-06</td>\n",
       "    </tr>\n",
       "    <tr>\n",
       "      <th>5</th>\n",
       "      <td>6</td>\n",
       "      <td>Penny</td>\n",
       "      <td>64</td>\n",
       "      <td>66</td>\n",
       "      <td>63</td>\n",
       "      <td>193</td>\n",
       "      <td>64.333333</td>\n",
       "      <td>0</td>\n",
       "      <td>2024-04-08</td>\n",
       "    </tr>\n",
       "    <tr>\n",
       "      <th>6</th>\n",
       "      <td>7</td>\n",
       "      <td>Matti</td>\n",
       "      <td>84</td>\n",
       "      <td>81</td>\n",
       "      <td>97</td>\n",
       "      <td>262</td>\n",
       "      <td>87.333333</td>\n",
       "      <td>0</td>\n",
       "      <td>2024-04-02</td>\n",
       "    </tr>\n",
       "    <tr>\n",
       "      <th>7</th>\n",
       "      <td>8</td>\n",
       "      <td>Catherin</td>\n",
       "      <td>58</td>\n",
       "      <td>69</td>\n",
       "      <td>95</td>\n",
       "      <td>222</td>\n",
       "      <td>74.000000</td>\n",
       "      <td>0</td>\n",
       "      <td>2024-04-02</td>\n",
       "    </tr>\n",
       "    <tr>\n",
       "      <th>8</th>\n",
       "      <td>9</td>\n",
       "      <td>Flora</td>\n",
       "      <td>95</td>\n",
       "      <td>58</td>\n",
       "      <td>72</td>\n",
       "      <td>225</td>\n",
       "      <td>75.000000</td>\n",
       "      <td>0</td>\n",
       "      <td>2024-04-03</td>\n",
       "    </tr>\n",
       "    <tr>\n",
       "      <th>9</th>\n",
       "      <td>10</td>\n",
       "      <td>Rhodia</td>\n",
       "      <td>60</td>\n",
       "      <td>97</td>\n",
       "      <td>72</td>\n",
       "      <td>229</td>\n",
       "      <td>76.333333</td>\n",
       "      <td>0</td>\n",
       "      <td>2024-04-09</td>\n",
       "    </tr>\n",
       "  </tbody>\n",
       "</table>\n",
       "</div>"
      ],
      "text/plain": [
       "   no        id  kor  eng  math  total        avg  rank      c_date\n",
       "0   1   Joelynn   55   87    68    210  70.000000     0  2024-04-04\n",
       "1   2    Bambie   73   69    77    219  73.000000     0  2024-04-01\n",
       "2   3      Orin   92   97    90    279  93.000000     0  2024-04-04\n",
       "3   4      Puff   98   60    78    236  78.666667     0  2024-04-04\n",
       "4   5   Godfree   66   72    59    197  65.666667     0  2024-04-06\n",
       "5   6     Penny   64   66    63    193  64.333333     0  2024-04-08\n",
       "6   7     Matti   84   81    97    262  87.333333     0  2024-04-02\n",
       "7   8  Catherin   58   69    95    222  74.000000     0  2024-04-02\n",
       "8   9     Flora   95   58    72    225  75.000000     0  2024-04-03\n",
       "9  10    Rhodia   60   97    72    229  76.333333     0  2024-04-09"
      ]
     },
     "execution_count": 13,
     "metadata": {},
     "output_type": "execute_result"
    }
   ],
   "source": [
    "df.head(10) # 위에서 10개 가져오고 싶을 때\n",
    "df.tail(10) # 아래서 10개 가져오고 싶을 때"
   ]
  },
  {
   "cell_type": "code",
   "execution_count": 15,
   "metadata": {},
   "outputs": [
    {
     "data": {
      "text/plain": [
       "(1000, 9)"
      ]
     },
     "execution_count": 15,
     "metadata": {},
     "output_type": "execute_result"
    }
   ],
   "source": [
    "# rows, column 개수를 보여줌\n",
    "df.shape"
   ]
  },
  {
   "cell_type": "code",
   "execution_count": 18,
   "metadata": {},
   "outputs": [
    {
     "data": {
      "text/plain": [
       "array([[1, 'Joelynn', 55, 87, 68, 210, 70.0, 0, '2024-04-04'],\n",
       "       [2, 'Bambie', 73, 69, 77, 219, 73.0, 0, '2024-04-01'],\n",
       "       [3, 'Orin', 92, 97, 90, 279, 93.0, 0, '2024-04-04'],\n",
       "       [4, 'Puff', 98, 60, 78, 236, 78.66666667, 0, '2024-04-04'],\n",
       "       [5, 'Godfree', 66, 72, 59, 197, 65.66666667, 0, '2024-04-06']],\n",
       "      dtype=object)"
      ]
     },
     "execution_count": 18,
     "metadata": {},
     "output_type": "execute_result"
    }
   ],
   "source": [
    "# 각각의 rows 데이터들을 배열로 생성\n",
    "df.values\n",
    "df.values[0:5]"
   ]
  },
  {
   "cell_type": "code",
   "execution_count": 21,
   "metadata": {},
   "outputs": [
    {
     "data": {
      "text/plain": [
       "RangeIndex(start=0, stop=1000, step=1)"
      ]
     },
     "execution_count": 21,
     "metadata": {},
     "output_type": "execute_result"
    }
   ],
   "source": [
    "df.index # index 출력"
   ]
  },
  {
   "cell_type": "code",
   "execution_count": 23,
   "metadata": {},
   "outputs": [
    {
     "data": {
      "text/plain": [
       "Index(['no', 'id', 'kor', 'eng', 'math', 'total', 'avg', 'rank', 'c_date'], dtype='object')"
      ]
     },
     "execution_count": 23,
     "metadata": {},
     "output_type": "execute_result"
    }
   ],
   "source": [
    "df.columns # 모든 컬럼 출력"
   ]
  },
  {
   "cell_type": "code",
   "execution_count": 27,
   "metadata": {},
   "outputs": [
    {
     "data": {
      "text/html": [
       "<div>\n",
       "<style scoped>\n",
       "    .dataframe tbody tr th:only-of-type {\n",
       "        vertical-align: middle;\n",
       "    }\n",
       "\n",
       "    .dataframe tbody tr th {\n",
       "        vertical-align: top;\n",
       "    }\n",
       "\n",
       "    .dataframe thead th {\n",
       "        text-align: right;\n",
       "    }\n",
       "</style>\n",
       "<table border=\"1\" class=\"dataframe\">\n",
       "  <thead>\n",
       "    <tr style=\"text-align: right;\">\n",
       "      <th></th>\n",
       "      <th>이름</th>\n",
       "      <th>학교</th>\n",
       "      <th>키</th>\n",
       "      <th>국어</th>\n",
       "      <th>영어</th>\n",
       "      <th>수학</th>\n",
       "      <th>과학</th>\n",
       "      <th>사회</th>\n",
       "      <th>SW특기</th>\n",
       "    </tr>\n",
       "    <tr>\n",
       "      <th>지원번호</th>\n",
       "      <th></th>\n",
       "      <th></th>\n",
       "      <th></th>\n",
       "      <th></th>\n",
       "      <th></th>\n",
       "      <th></th>\n",
       "      <th></th>\n",
       "      <th></th>\n",
       "      <th></th>\n",
       "    </tr>\n",
       "  </thead>\n",
       "  <tbody>\n",
       "    <tr>\n",
       "      <th>8번</th>\n",
       "      <td>송근열</td>\n",
       "      <td>단지고</td>\n",
       "      <td>190</td>\n",
       "      <td>72</td>\n",
       "      <td>55</td>\n",
       "      <td>49</td>\n",
       "      <td>76</td>\n",
       "      <td>59</td>\n",
       "      <td>c#</td>\n",
       "    </tr>\n",
       "    <tr>\n",
       "      <th>7번</th>\n",
       "      <td>박혜정</td>\n",
       "      <td>단지고</td>\n",
       "      <td>188</td>\n",
       "      <td>100</td>\n",
       "      <td>99</td>\n",
       "      <td>86</td>\n",
       "      <td>84</td>\n",
       "      <td>86</td>\n",
       "      <td>PYTHON</td>\n",
       "    </tr>\n",
       "    <tr>\n",
       "      <th>6번</th>\n",
       "      <td>박동현</td>\n",
       "      <td>단지고</td>\n",
       "      <td>202</td>\n",
       "      <td>83</td>\n",
       "      <td>86</td>\n",
       "      <td>28</td>\n",
       "      <td>95</td>\n",
       "      <td>58</td>\n",
       "      <td>C</td>\n",
       "    </tr>\n",
       "    <tr>\n",
       "      <th>5번</th>\n",
       "      <td>김재욱</td>\n",
       "      <td>구로고</td>\n",
       "      <td>188</td>\n",
       "      <td>75</td>\n",
       "      <td>38</td>\n",
       "      <td>99</td>\n",
       "      <td>100</td>\n",
       "      <td>96</td>\n",
       "      <td>NaN</td>\n",
       "    </tr>\n",
       "    <tr>\n",
       "      <th>4번</th>\n",
       "      <td>김수찬</td>\n",
       "      <td>구로고</td>\n",
       "      <td>187</td>\n",
       "      <td>88</td>\n",
       "      <td>93</td>\n",
       "      <td>84</td>\n",
       "      <td>28</td>\n",
       "      <td>57</td>\n",
       "      <td>NaN</td>\n",
       "    </tr>\n",
       "    <tr>\n",
       "      <th>3번</th>\n",
       "      <td>강호림</td>\n",
       "      <td>구로고</td>\n",
       "      <td>168</td>\n",
       "      <td>60</td>\n",
       "      <td>77</td>\n",
       "      <td>56</td>\n",
       "      <td>88</td>\n",
       "      <td>93</td>\n",
       "      <td>Javascript</td>\n",
       "    </tr>\n",
       "    <tr>\n",
       "      <th>2번</th>\n",
       "      <td>강태원</td>\n",
       "      <td>구로고</td>\n",
       "      <td>194</td>\n",
       "      <td>50</td>\n",
       "      <td>63</td>\n",
       "      <td>88</td>\n",
       "      <td>49</td>\n",
       "      <td>58</td>\n",
       "      <td>Java</td>\n",
       "    </tr>\n",
       "    <tr>\n",
       "      <th>1번</th>\n",
       "      <td>강나래</td>\n",
       "      <td>구로고</td>\n",
       "      <td>197</td>\n",
       "      <td>90</td>\n",
       "      <td>85</td>\n",
       "      <td>100</td>\n",
       "      <td>95</td>\n",
       "      <td>84</td>\n",
       "      <td>Python</td>\n",
       "    </tr>\n",
       "  </tbody>\n",
       "</table>\n",
       "</div>"
      ],
      "text/plain": [
       "       이름   학교    키   국어  영어   수학   과학  사회        SW특기\n",
       "지원번호                                                  \n",
       "8번    송근열  단지고  190   72  55   49   76  59          c#\n",
       "7번    박혜정  단지고  188  100  99   86   84  86      PYTHON\n",
       "6번    박동현  단지고  202   83  86   28   95  58           C\n",
       "5번    김재욱  구로고  188   75  38   99  100  96         NaN\n",
       "4번    김수찬  구로고  187   88  93   84   28  57         NaN\n",
       "3번    강호림  구로고  168   60  77   56   88  93  Javascript\n",
       "2번    강태원  구로고  194   50  63   88   49  58        Java\n",
       "1번    강나래  구로고  197   90  85  100   95  84      Python"
      ]
     },
     "execution_count": 27,
     "metadata": {},
     "output_type": "execute_result"
    }
   ],
   "source": [
    "df = pd.read_excel('score.xlsx',index_col='지원번호')\n",
    "df"
   ]
  },
  {
   "cell_type": "code",
   "execution_count": 29,
   "metadata": {},
   "outputs": [
    {
     "data": {
      "text/plain": [
       "지원번호\n",
       "8번    송근열\n",
       "7번    박혜정\n",
       "6번    박동현\n",
       "5번    김재욱\n",
       "4번    김수찬\n",
       "3번    강호림\n",
       "2번    강태원\n",
       "1번    강나래\n",
       "Name: 이름, dtype: object"
      ]
     },
     "execution_count": 29,
     "metadata": {},
     "output_type": "execute_result"
    }
   ],
   "source": [
    "df['이름']"
   ]
  },
  {
   "cell_type": "code",
   "execution_count": 33,
   "metadata": {},
   "outputs": [
    {
     "data": {
      "text/plain": [
       "지원번호\n",
       "8번            c#\n",
       "7번        PYTHON\n",
       "6번             C\n",
       "5번           NaN\n",
       "4번           NaN\n",
       "3번    Javascript\n",
       "2번          Java\n",
       "1번        Python\n",
       "Name: SW특기, dtype: object"
      ]
     },
     "execution_count": 33,
     "metadata": {},
     "output_type": "execute_result"
    }
   ],
   "source": [
    "df.columns # 모든 컬럼명 출력\n",
    "df.columns[0] # 이름\n",
    "df['이름'] # 인덱스 + 이름(데이터표 모양으로)\n",
    "df[df.columns[0]] # df['이름'] 같음\n",
    "df[df.columns[-1]] # 마지막 컬럼의 데이터"
   ]
  },
  {
   "cell_type": "markdown",
   "metadata": {},
   "source": [
    "### 데이터확인"
   ]
  },
  {
   "cell_type": "code",
   "execution_count": 36,
   "metadata": {},
   "outputs": [
    {
     "name": "stdout",
     "output_type": "stream",
     "text": [
      "<class 'pandas.core.frame.DataFrame'>\n",
      "Index: 8 entries, 1번 to 8번\n",
      "Data columns (total 9 columns):\n",
      " #   Column  Non-Null Count  Dtype \n",
      "---  ------  --------------  ----- \n",
      " 0   이름      8 non-null      object\n",
      " 1   학교      8 non-null      object\n",
      " 2   키       8 non-null      int64 \n",
      " 3   국어      8 non-null      int64 \n",
      " 4   영어      8 non-null      int64 \n",
      " 5   수학      8 non-null      int64 \n",
      " 6   과학      8 non-null      int64 \n",
      " 7   사회      8 non-null      int64 \n",
      " 8   SW특기    6 non-null      object\n",
      "dtypes: int64(6), object(3)\n",
      "memory usage: 640.0+ bytes\n"
     ]
    },
    {
     "data": {
      "text/plain": [
       "(8, 9)"
      ]
     },
     "execution_count": 36,
     "metadata": {},
     "output_type": "execute_result"
    }
   ],
   "source": [
    "df.describe()  # 컬럼별 대략적 정보: min,max,mean..\n",
    "df.head()      # 상단 5개 출력(개수 조절 가능)\n",
    "df.tail()      # 하단 5개 출력\n",
    "df.info()      # 컬럼별 타입,크기 정보\n",
    "df.values      # rows 데이터 배열로 출력\n",
    "df.index       # index 정보\n",
    "df.columns     # 컬럼 정보\n",
    "df.shape       # 데이터 크기 정보 (8,9) : 행 8개, 열 9개"
   ]
  },
  {
   "cell_type": "code",
   "execution_count": 37,
   "metadata": {},
   "outputs": [
    {
     "data": {
      "text/plain": [
       "8"
      ]
     },
     "execution_count": 37,
     "metadata": {},
     "output_type": "execute_result"
    }
   ],
   "source": [
    "df.shape\n",
    "df.shape[0] # 행 개수(index 수)\n",
    "df.shape[1] # 열 개수(컬럼 수)"
   ]
  }
 ],
 "metadata": {
  "kernelspec": {
   "display_name": "Python 3",
   "language": "python",
   "name": "python3"
  },
  "language_info": {
   "codemirror_mode": {
    "name": "ipython",
    "version": 3
   },
   "file_extension": ".py",
   "mimetype": "text/x-python",
   "name": "python",
   "nbconvert_exporter": "python",
   "pygments_lexer": "ipython3",
   "version": "3.12.0"
  }
 },
 "nbformat": 4,
 "nbformat_minor": 2
}
