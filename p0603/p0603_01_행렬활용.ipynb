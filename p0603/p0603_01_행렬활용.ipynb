{
 "cells": [
  {
   "cell_type": "markdown",
   "metadata": {},
   "source": [
    "### python 복습"
   ]
  },
  {
   "cell_type": "markdown",
   "metadata": {},
   "source": [
    "### Markdown 수식 작성\n",
    "    - LaTex 태그로 작성 가능\n",
    "$$ \n",
    "    \\begin{pmatrix}\n",
    "    1 & 2 & 3 \\\\\n",
    "    4 & 5 & 6\n",
    "    \\end{pmatrix}\n",
    "    + \n",
    "    \\begin{pmatrix}\n",
    "    5 & 5 & 5 \\\\\n",
    "    5 & 5 & 5\n",
    "    \\end{pmatrix}\n",
    "$$\n",
    "$$\n",
    "    \\begin{pmatrix}\n",
    "    1 & 2 & 3 \\\\\n",
    "    4 & 5 & 6\n",
    "    \\end{pmatrix}\n",
    "    \\times\n",
    "    \\begin{pmatrix}\n",
    "    5 & 5 \\\\\n",
    "    5 & 5 \\\\\n",
    "    5 & 5\n",
    "    \\end{pmatrix}\n",
    "$$ "
   ]
  },
  {
   "cell_type": "markdown",
   "metadata": {},
   "source": [
    "### Numpy\n",
    "    - 데이터는 행렬로 표현(영상도 포함)\n",
    "    - 선형대수\\통계 연산을 위한 라이브러리\n",
    "\n",
    "    Pandas : 데이터 분석에 가장 많이 활용\n",
    "    Numpy : 알고리즘 활용에 numpy가 필수적 패키지"
   ]
  },
  {
   "cell_type": "code",
   "execution_count": 3,
   "metadata": {},
   "outputs": [],
   "source": [
    "# 호출 \n",
    "import numpy as np"
   ]
  },
  {
   "cell_type": "markdown",
   "metadata": {},
   "source": [
    "### array broadcasting\n",
    "    - 차원이 다른 연산을 동일한 차원으로 자동으로 변경시켜 연산을 가능하게 해주는 것\n",
    "    - 딥러닝에서 bias(편향) 계산을 할 때 주로 사용"
   ]
  },
  {
   "cell_type": "code",
   "execution_count": 8,
   "metadata": {},
   "outputs": [
    {
     "data": {
      "text/plain": [
       "array([92, 12, 10, 98, 49, 63, 69, 21, 16, 23])"
      ]
     },
     "execution_count": 8,
     "metadata": {},
     "output_type": "execute_result"
    }
   ],
   "source": [
    "ary = np.array(np.random.randint(10,100,10))    \n",
    "ary"
   ]
  },
  {
   "cell_type": "code",
   "execution_count": 7,
   "metadata": {},
   "outputs": [
    {
     "data": {
      "text/plain": [
       "array([ 0.62487856, -0.23692699,  0.14294364,  0.39334672, -0.26825795,\n",
       "        0.70173382, -1.04482197, -0.55588542, -0.56443766,  1.07743663])"
      ]
     },
     "execution_count": 7,
     "metadata": {},
     "output_type": "execute_result"
    }
   ],
   "source": [
    "ary = np.array(np.random.randn(10)) # 표준정규분포를 따른 난수 생성 -> 초기 가중치 생성 때 사용\n",
    "ary"
   ]
  },
  {
   "cell_type": "code",
   "execution_count": 9,
   "metadata": {},
   "outputs": [
    {
     "data": {
      "text/plain": [
       "array([0.26949719])"
      ]
     },
     "execution_count": 9,
     "metadata": {},
     "output_type": "execute_result"
    }
   ],
   "source": [
    "# 편향값 생성\n",
    "bias = np.random.rand(1)\n",
    "bias"
   ]
  },
  {
   "cell_type": "markdown",
   "metadata": {},
   "source": [
    "통계함수\n",
    "- max, min, mean, median, var, std"
   ]
  },
  {
   "cell_type": "code",
   "execution_count": 10,
   "metadata": {},
   "outputs": [
    {
     "data": {
      "text/plain": [
       "98"
      ]
     },
     "execution_count": 10,
     "metadata": {},
     "output_type": "execute_result"
    }
   ],
   "source": [
    "np.max(ary)"
   ]
  },
  {
   "cell_type": "markdown",
   "metadata": {},
   "source": [
    "Random 모듈\n",
    "- seed : 랜덤 모듈의 규칙값\n",
    "- randint: 랜덤 정수(범위지정 가능)\n",
    "- randn : 표준정규분포를 따르는 난수 생성\n",
    "- shuffle : 데이터 섞기\n",
    "- choice : 특정확률로 데이터 뽑기"
   ]
  },
  {
   "cell_type": "markdown",
   "metadata": {},
   "source": [
    "#### seed"
   ]
  },
  {
   "cell_type": "code",
   "execution_count": 12,
   "metadata": {},
   "outputs": [],
   "source": [
    "seed = 603  # 머신러닝,딥러닝에서 하이퍼파라미터로 사용\n",
    "\n",
    "np.random.seed(seed)\n",
    "r1  = np.random.rand(10)\n",
    "\n",
    "np.random.seed(1)\n",
    "r2 = np.random.rand(10)\n",
    "\n",
    "np.random.seed(seed)\n",
    "r3 = np.random.rand(10)"
   ]
  },
  {
   "cell_type": "code",
   "execution_count": 13,
   "metadata": {},
   "outputs": [
    {
     "data": {
      "text/plain": [
       "(array([0.06450168, 0.13338277, 0.10931622, 0.97127506, 0.85101842,\n",
       "        0.96534748, 0.99727133, 0.93093441, 0.48533923, 0.63427833]),\n",
       " array([4.17022005e-01, 7.20324493e-01, 1.14374817e-04, 3.02332573e-01,\n",
       "        1.46755891e-01, 9.23385948e-02, 1.86260211e-01, 3.45560727e-01,\n",
       "        3.96767474e-01, 5.38816734e-01]),\n",
       " array([0.06450168, 0.13338277, 0.10931622, 0.97127506, 0.85101842,\n",
       "        0.96534748, 0.99727133, 0.93093441, 0.48533923, 0.63427833]))"
      ]
     },
     "execution_count": 13,
     "metadata": {},
     "output_type": "execute_result"
    }
   ],
   "source": [
    "r1,r2,r3"
   ]
  },
  {
   "cell_type": "markdown",
   "metadata": {},
   "source": [
    "※ 머신러닝 예시\n",
    "- scaling 처리 후 return 값으로 ndarray 타입 데이터로 출력"
   ]
  },
  {
   "cell_type": "code",
   "execution_count": 16,
   "metadata": {},
   "outputs": [
    {
     "data": {
      "text/html": [
       "<div>\n",
       "<style scoped>\n",
       "    .dataframe tbody tr th:only-of-type {\n",
       "        vertical-align: middle;\n",
       "    }\n",
       "\n",
       "    .dataframe tbody tr th {\n",
       "        vertical-align: top;\n",
       "    }\n",
       "\n",
       "    .dataframe thead th {\n",
       "        text-align: right;\n",
       "    }\n",
       "</style>\n",
       "<table border=\"1\" class=\"dataframe\">\n",
       "  <thead>\n",
       "    <tr style=\"text-align: right;\">\n",
       "      <th></th>\n",
       "      <th>0</th>\n",
       "      <th>1</th>\n",
       "    </tr>\n",
       "  </thead>\n",
       "  <tbody>\n",
       "    <tr>\n",
       "      <th>0</th>\n",
       "      <td>26</td>\n",
       "      <td>43</td>\n",
       "    </tr>\n",
       "    <tr>\n",
       "      <th>1</th>\n",
       "      <td>97</td>\n",
       "      <td>45</td>\n",
       "    </tr>\n",
       "    <tr>\n",
       "      <th>2</th>\n",
       "      <td>88</td>\n",
       "      <td>91</td>\n",
       "    </tr>\n",
       "    <tr>\n",
       "      <th>3</th>\n",
       "      <td>20</td>\n",
       "      <td>17</td>\n",
       "    </tr>\n",
       "    <tr>\n",
       "      <th>4</th>\n",
       "      <td>64</td>\n",
       "      <td>99</td>\n",
       "    </tr>\n",
       "  </tbody>\n",
       "</table>\n",
       "</div>"
      ],
      "text/plain": [
       "    0   1\n",
       "0  26  43\n",
       "1  97  45\n",
       "2  88  91\n",
       "3  20  17\n",
       "4  64  99"
      ]
     },
     "execution_count": 16,
     "metadata": {},
     "output_type": "execute_result"
    }
   ],
   "source": [
    "from sklearn.preprocessing import MinMaxScaler\n",
    "import numpy as np\n",
    "import pandas as pd\n",
    "\n",
    "X = np.random.randint(1, 100, 10).reshape(-1,2) # 5행 2열 데이터 생성\n",
    "df = pd.DataFrame(X)\n",
    "\n",
    "df"
   ]
  },
  {
   "cell_type": "code",
   "execution_count": 20,
   "metadata": {},
   "outputs": [
    {
     "data": {
      "text/plain": [
       "(array([[0.07792208, 0.31707317],\n",
       "        [1.        , 0.34146341],\n",
       "        [0.88311688, 0.90243902],\n",
       "        [0.        , 0.        ],\n",
       "        [0.57142857, 1.        ]]),\n",
       " numpy.ndarray)"
      ]
     },
     "execution_count": 20,
     "metadata": {},
     "output_type": "execute_result"
    }
   ],
   "source": [
    "# Max와 Min값을 빼서 거리를 구하고, Min 값을 기준으로 각 값들의 위치값을 다시 정렬한 후 Max-Min거리 값으로 나눠주어 정규화 시킴 (0~1 사이의 값을 가지게 됨)\n",
    "# 예시 Max : 97, Min : 20, Max-Min = 77\n",
    "# 26 -> 6이 되고, 6/77 = 0.0779\n",
    "\n",
    "scaled_data = MinMaxScaler().fit_transform(df)  \n",
    "scaled_data, type(scaled_data)"
   ]
  },
  {
   "cell_type": "markdown",
   "metadata": {},
   "source": [
    "※ 머신러닝 예시\n",
    "- 초기값을 임의로 생성하여 zero 행렬을 생성하여 대입할 때 다음과 같은 행렬을 작성하시오\n",
    "$$ \n",
    "    \\begin{pmatrix}\n",
    "    난수 & 0 & 0 & 0 \\\\\n",
    "    0 & 난수 & 0 & 0 \\\\\n",
    "    0 & 0 & 난수 & 0 \\\\\n",
    "    0 & 0 & 0 & 난수\n",
    "    \\end{pmatrix}\n",
    "$$"
   ]
  },
  {
   "cell_type": "code",
   "execution_count": 51,
   "metadata": {},
   "outputs": [
    {
     "data": {
      "text/plain": [
       "array([[-0.59126964,  0.        ,  0.        ,  0.        ],\n",
       "       [ 0.        ,  0.52189332,  0.        ,  0.        ],\n",
       "       [ 0.        ,  0.        , -0.24765071,  0.        ],\n",
       "       [ 0.        ,  0.        ,  0.        ,  1.55796122]])"
      ]
     },
     "execution_count": 51,
     "metadata": {},
     "output_type": "execute_result"
    }
   ],
   "source": [
    "# 내가 짠 코드\n",
    "\n",
    "zero_ary = np.zeros((4,4))\n",
    "random_num = np.random.randn(4)\n",
    "for i, n in enumerate(random_num):\n",
    "    zero_ary[i][i] = n\n",
    "    \n",
    "zero_ary"
   ]
  },
  {
   "cell_type": "code",
   "execution_count": 52,
   "metadata": {},
   "outputs": [
    {
     "data": {
      "text/plain": [
       "array([[-0.52281148,  0.        ,  0.        ,  0.        ],\n",
       "       [ 0.        ,  0.41020619,  0.        ,  0.        ],\n",
       "       [ 0.        ,  0.        ,  1.24111762,  0.        ],\n",
       "       [ 0.        ,  0.        ,  0.        , -0.80007587]])"
      ]
     },
     "execution_count": 52,
     "metadata": {},
     "output_type": "execute_result"
    }
   ],
   "source": [
    "# 보여주신 코드\n",
    "\n",
    "w = np.random.randn(4)\n",
    "shp = np.zeros((4,4))\n",
    "\n",
    "for i in range(shp.shape[0]):\n",
    "    for j in range(shp.shape[1]):\n",
    "        if i == j: shp[i][j] = w[i]\n",
    "        \n",
    "shp"
   ]
  },
  {
   "cell_type": "markdown",
   "metadata": {},
   "source": [
    "diag 함수를 사용하여 한줄 코드로 만들어버리기"
   ]
  },
  {
   "cell_type": "code",
   "execution_count": 48,
   "metadata": {},
   "outputs": [
    {
     "data": {
      "text/plain": [
       "array([[0.94795561, 0.        , 0.        , 0.        ],\n",
       "       [0.        , 0.68153037, 0.        , 0.        ],\n",
       "       [0.        , 0.        , 0.96592503, 0.        ],\n",
       "       [0.        , 0.        , 0.        , 0.55072509]])"
      ]
     },
     "execution_count": 48,
     "metadata": {},
     "output_type": "execute_result"
    }
   ],
   "source": [
    "import numpy as np\n",
    "diag_matrix = np.diag(np.random.rand(4))\n",
    "\n",
    "diag_matrix"
   ]
  }
 ],
 "metadata": {
  "kernelspec": {
   "display_name": "Python 3",
   "language": "python",
   "name": "python3"
  },
  "language_info": {
   "codemirror_mode": {
    "name": "ipython",
    "version": 3
   },
   "file_extension": ".py",
   "mimetype": "text/x-python",
   "name": "python",
   "nbconvert_exporter": "python",
   "pygments_lexer": "ipython3",
   "version": "3.12.3"
  }
 },
 "nbformat": 4,
 "nbformat_minor": 2
}
