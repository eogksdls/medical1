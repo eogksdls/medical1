{
 "cells": [
  {
   "cell_type": "markdown",
   "metadata": {},
   "source": [
    "##### seed"
   ]
  },
  {
   "cell_type": "markdown",
   "metadata": {},
   "source": [
    "### Function\n",
    "- 반복성을 줄이고 함수로 선언한 연산을 재사용\n",
    "- 객체 지향 언어의 가장 큰 장점"
   ]
  },
  {
   "cell_type": "markdown",
   "metadata": {},
   "source": [
    "```python\n",
    "def 함수명(파라미터) : \n",
    "    return 출력값\n",
    "```"
   ]
  },
  {
   "cell_type": "code",
   "execution_count": 23,
   "metadata": {},
   "outputs": [
    {
     "name": "stdout",
     "output_type": "stream",
     "text": [
      "603\n",
      "604\n",
      "603\n"
     ]
    }
   ],
   "source": [
    "# 리턴을 선언하지 않고 사용하는 경우 -> 함수가 연산 도구로만 사용될 때\n",
    "# 전역변수, 지역변수\n",
    "\n",
    "num = 603\n",
    "print(num)\n",
    "\n",
    "def today():\n",
    "    num = 604\n",
    "    print(num)\n",
    "\n",
    "today()    \n",
    "\n",
    "print(num)"
   ]
  },
  {
   "cell_type": "code",
   "execution_count": 24,
   "metadata": {},
   "outputs": [
    {
     "name": "stdout",
     "output_type": "stream",
     "text": [
      "603\n",
      "604\n",
      "=================\n",
      "604\n"
     ]
    }
   ],
   "source": [
    "num = 603\n",
    "print(num)\n",
    "\n",
    "def today():\n",
    "    global num\n",
    "    \n",
    "    num = 604\n",
    "    print(num)\n",
    "\n",
    "today()    \n",
    "print(\"=================\")\n",
    "print(num)  # 604 : return을 하지 않아도 global 선언을 해줌으로써 함수 내 num값이 모든 코드에 영향을 줌"
   ]
  },
  {
   "cell_type": "markdown",
   "metadata": {},
   "source": [
    "### map 함수와 pandas apply는 유사한 기능 \n",
    "- 순서가 있는 데이터 값에 함수를 모두 적용하여 결과를 출력하는 함수"
   ]
  },
  {
   "cell_type": "markdown",
   "metadata": {},
   "source": [
    "``` python\n",
    "map(적용할 함수, 입력할 데이터)\n",
    "```"
   ]
  },
  {
   "cell_type": "code",
   "execution_count": 25,
   "metadata": {},
   "outputs": [
    {
     "name": "stdout",
     "output_type": "stream",
     "text": [
      "21\n",
      "[1, 2, 3, 4, 5, 6]\n"
     ]
    }
   ],
   "source": [
    "num_txt= '1 2 3 4 5 6'\n",
    "num_int = list(map(int, num_txt.split(' ')))\n",
    "\n",
    "print(sum(num_int))     # int 타입으로 들어와서 sum도 가능\n",
    "print(num_int)"
   ]
  },
  {
   "cell_type": "markdown",
   "metadata": {},
   "source": [
    "lambda 함수\n",
    "- 간단한 연산을 구현하여 일시적으로 사용하는 함수\n",
    "\n",
    "```python\n",
    "lambda 리턴: 연산\n",
    "```\n"
   ]
  },
  {
   "cell_type": "code",
   "execution_count": 28,
   "metadata": {},
   "outputs": [
    {
     "data": {
      "text/plain": [
       "(array([86, 88, 29, 42, 83, 45, 12, 65, 15,  9]),\n",
       " [28, 29, 9, 14, 27, 15, 4, 21, 5, 3])"
      ]
     },
     "execution_count": 28,
     "metadata": {},
     "output_type": "execute_result"
    }
   ],
   "source": [
    "import numpy as np\n",
    "\n",
    "seq = np.random.randint(1,101,10)\n",
    "q = list(map(lambda x: x//3,seq))\n",
    "\n",
    "seq,q"
   ]
  },
  {
   "cell_type": "code",
   "execution_count": null,
   "metadata": {},
   "outputs": [],
   "source": []
  }
 ],
 "metadata": {
  "kernelspec": {
   "display_name": "Python 3",
   "language": "python",
   "name": "python3"
  },
  "language_info": {
   "codemirror_mode": {
    "name": "ipython",
    "version": 3
   },
   "file_extension": ".py",
   "mimetype": "text/x-python",
   "name": "python",
   "nbconvert_exporter": "python",
   "pygments_lexer": "ipython3",
   "version": "3.12.3"
  }
 },
 "nbformat": 4,
 "nbformat_minor": 2
}
