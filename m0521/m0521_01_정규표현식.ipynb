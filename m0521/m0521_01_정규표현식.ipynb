{
 "cells": [
  {
   "cell_type": "code",
   "execution_count": 1,
   "metadata": {},
   "outputs": [],
   "source": [
    "# 정규 표현식\n",
    "\n",
    "# . : 하나의 문자\n",
    "# ^ : 문자열의 시작\n",
    "# $ : 문자열의 끝\n",
    "# [ ] : 대괄호 안에 일치하려는 문자를 입력시킴\n",
    "# [0-9] : 0부터 9까지의 숫자가 일치하는 지 확인\n",
    "# [a-zA-Z] : 영문자와 일치하는지 확인\n",
    "# [ㄱ-ㅎ가-힣] : 국문자와 일치하는지 확인\n",
    "# { } : 문자의 길이 (지정, 얼마 이상, 이하 가능)\n",
    "# {2} : 문자의 길이가 2자리\n",
    "# {3,} : 문자의 길이가 3자리 이상\n",
    "# {,3} : 문자의 길이가 3자리 이하\n",
    "# {2,3} : 문자의 길이가 2~3자리\n",
    "\n",
    "# match() : 처음부터 모든 문자열이 일치하는 것인지 확인\n",
    "# search() : 원하는 문자열이 포함되어있는지 확인\n",
    "# findall() : 일치하는 것이 있으면 리스트로 반환해줌\n",
    "# group() : 일치하면 해당되는 문자를 출력\n",
    "# compile() : 정규식 형태를 지정\n",
    "# sub() : 일치하는 데이터를 삭제"
   ]
  },
  {
   "cell_type": "code",
   "execution_count": 10,
   "metadata": {},
   "outputs": [
    {
     "name": "stdout",
     "output_type": "stream",
     "text": [
      "매칭되었습니다. looooook\n"
     ]
    }
   ],
   "source": [
    "import re\n",
    "\n",
    "# p = re.compile('lo.k')  # 문자열이 loㅁk 형 이어야 True\n",
    "p = re.compile('lo+k')  # 문자열이 lo(*n)k 형 이어야 True : o이 1개 이상 들어가도 됨\n",
    "word = 'looooook'\n",
    "\n",
    "if p.match(word):\n",
    "    print(\"매칭되었습니다.\", word)\n",
    "else:\n",
    "    print(\"매칭되지 않았습니다.\", word)"
   ]
  },
  {
   "cell_type": "code",
   "execution_count": 8,
   "metadata": {},
   "outputs": [
    {
     "name": "stdout",
     "output_type": "stream",
     "text": [
      "매칭 loak\n"
     ]
    }
   ],
   "source": [
    "word = 'loak'\n",
    "if re.match('lo.k', word):\n",
    "    print(\"매칭\", word)\n",
    "else:\n",
    "    print(\"매칭안됨\",word)"
   ]
  },
  {
   "cell_type": "code",
   "execution_count": 11,
   "metadata": {},
   "outputs": [
    {
     "name": "stdout",
     "output_type": "stream",
     "text": [
      "매칭 안됨 good care\n"
     ]
    }
   ],
   "source": [
    "word = 'good care'\n",
    "if re.match('ca.e', word):\n",
    "    print('매칭', word)\n",
    "else:\n",
    "    print('매칭 안됨', word)"
   ]
  },
  {
   "cell_type": "code",
   "execution_count": 12,
   "metadata": {},
   "outputs": [
    {
     "name": "stdout",
     "output_type": "stream",
     "text": [
      "매칭 good care\n"
     ]
    }
   ],
   "source": [
    "word = 'good care'\n",
    "if re.search('ca.e', word):\n",
    "    print('매칭',word)\n",
    "else:\n",
    "    print('매칭 안됨', word)"
   ]
  },
  {
   "cell_type": "code",
   "execution_count": 15,
   "metadata": {},
   "outputs": [
    {
     "name": "stdout",
     "output_type": "stream",
     "text": [
      "매칭 됨 삼성전자는 21일 개선된 AI(인공지능) 기능을 제공하는 '갤럭시 북4 엣지'를 공개했다.\n"
     ]
    }
   ],
   "source": [
    "word = \"삼성전자는 21일 개선된 AI(인공지능) 기능을 제공하는 '갤럭시 북4 엣지'를 공개했다.\"\n",
    "if re.search('지능',word):\n",
    "    print(\"매칭 됨\", word)\n",
    "else:\n",
    "    print('매칭되지 않음', word)"
   ]
  },
  {
   "cell_type": "code",
   "execution_count": 20,
   "metadata": {},
   "outputs": [
    {
     "name": "stdout",
     "output_type": "stream",
     "text": [
      "fr\n"
     ]
    }
   ],
   "source": [
    "word = 'en-1.txt'\n",
    "word2 = 'fr-1.txt'\n",
    "\n",
    "if re.match('^[a-z]{2,}', word2):\n",
    "    print(re.match('^[a-z]{2,}',word2).group())\n",
    "else:\n",
    "    print('매칭되는 문자가 없습니다.')\n",
    "\n",
    "# re.match('^[a-z]{2,}',word2).group()\n"
   ]
  },
  {
   "cell_type": "code",
   "execution_count": 22,
   "metadata": {},
   "outputs": [
    {
     "data": {
      "text/plain": [
       "'갤럭시 북  엣지는   . cm(  형)  종과   . cm(  형)  종 등 모두 세 가지 모델로 출시된다.      형 기준 최대   시간의 동영상 재생이 가능한 배터리가 탑재됐고, 초고속 충전 기능도 갖췄다.'"
      ]
     },
     "execution_count": 22,
     "metadata": {},
     "output_type": "execute_result"
    }
   ],
   "source": [
    "word = '갤럭시 북4 엣지는 35.6cm(14형) 1종과 40.6cm(16형) 2종 등 모두 세 가지 모델로 출시된다.\\\n",
    "    16형 기준 최대 22시간의 동영상 재생이 가능한 배터리가 탑재됐고, 초고속 충전 기능도 갖췄다.'\n",
    "\n",
    "words = re.sub('[0-9]',' ', word)\n",
    "words"
   ]
  },
  {
   "cell_type": "code",
   "execution_count": 24,
   "metadata": {},
   "outputs": [
    {
     "data": {
      "text/plain": [
       "'갤럭시 북4    엣지는 44  35 6cm 14형  1종과  40 6cm     16형    2종 등  모두 세 가지 모델로 출시된다     16형 기준 최대 22시간의 동영상 재생이 가능한 배터리가 탑재됐고  초고속 충전 기능도 갖췄다 '"
      ]
     },
     "execution_count": 24,
     "metadata": {},
     "output_type": "execute_result"
    }
   ],
   "source": [
    "word = \"갤럭시 북4 ???엣지는%44# 35.6cm(14형) 1종과@ 40.6cm... (16형)** 2종 등! 모두 세 가지 모델로 출시된다.\\\n",
    "    16형 기준 최대 22시간의 동영상 재생이 가능한 배터리가 탑재됐고, 초고속 충전 기능도 갖췄다.\"\n",
    "\n",
    "# [0-9a-zA-Zㄱ-ㅎ가-힣] : 이걸 제외하는 조건을 작성하면 특수문자 검색이 가능해짐\n",
    "# 제외하는 조건은 [^~~] : ~~ 부분에 원하는 조건을 가져다 씀면 된다\n",
    "# 이후 형태소 분석에 사용됨 -> 특수문자를 제거하여 글만 있는 내용을 만들기 위해서\n",
    "# 근데 .도 사라진다는 점..!!\n",
    "\n",
    "words = re.sub('[^0-9a-zA-Zㄱ-ㅎ가-힣]',' ',word)\n",
    "words"
   ]
  },
  {
   "cell_type": "code",
   "execution_count": 29,
   "metadata": {},
   "outputs": [
    {
     "name": "stdout",
     "output_type": "stream",
     "text": [
      "매칭 됨 a00a01\n"
     ]
    }
   ],
   "source": [
    "# 첫 글자가 영문이면서 숫자와 영문 상관없이 5자리, 총 6자리인\n",
    "# 문자를 확인하는 형태\n",
    "\n",
    "word = 'a00a01'\n",
    "if re.match('^[a-z]{1}[A-Za-z0-9]{3}', word) and len(word) == 6:\n",
    "    print(\"매칭 됨\", word)\n",
    "else:\n",
    "    print('매칭되지 않음', word)\n",
    "\n",
    "\n",
    "\n"
   ]
  }
 ],
 "metadata": {
  "kernelspec": {
   "display_name": "Python 3",
   "language": "python",
   "name": "python3"
  },
  "language_info": {
   "codemirror_mode": {
    "name": "ipython",
    "version": 3
   },
   "file_extension": ".py",
   "mimetype": "text/x-python",
   "name": "python",
   "nbconvert_exporter": "python",
   "pygments_lexer": "ipython3",
   "version": "3.12.0"
  }
 },
 "nbformat": 4,
 "nbformat_minor": 2
}
